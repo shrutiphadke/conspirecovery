{
 "cells": [
  {
   "cell_type": "code",
   "execution_count": 1,
   "metadata": {},
   "outputs": [],
   "source": [
    "import pandas as pd\n",
    "import numpy as np"
   ]
  },
  {
   "cell_type": "code",
   "execution_count": 2,
   "metadata": {},
   "outputs": [],
   "source": [
    "comments = pd.read_csv(\"../lite_data/conspauthors_comments.csv\", header=0)\n",
    "posts  = pd.read_csv(\"../lite_data/conspauthors_posts.csv\", header=0)"
   ]
  },
  {
   "cell_type": "code",
   "execution_count": 3,
   "metadata": {},
   "outputs": [
    {
     "data": {
      "text/html": [
       "<div>\n",
       "<style scoped>\n",
       "    .dataframe tbody tr th:only-of-type {\n",
       "        vertical-align: middle;\n",
       "    }\n",
       "\n",
       "    .dataframe tbody tr th {\n",
       "        vertical-align: top;\n",
       "    }\n",
       "\n",
       "    .dataframe thead th {\n",
       "        text-align: right;\n",
       "    }\n",
       "</style>\n",
       "<table border=\"1\" class=\"dataframe\">\n",
       "  <thead>\n",
       "    <tr style=\"text-align: right;\">\n",
       "      <th></th>\n",
       "      <th>author</th>\n",
       "      <th>authorContrib</th>\n",
       "      <th>conspStart</th>\n",
       "      <th>conspEnd</th>\n",
       "    </tr>\n",
       "  </thead>\n",
       "  <tbody>\n",
       "    <tr>\n",
       "      <th>0</th>\n",
       "      <td>parkowork</td>\n",
       "      <td>256</td>\n",
       "      <td>1379645257</td>\n",
       "      <td>1573504933</td>\n",
       "    </tr>\n",
       "    <tr>\n",
       "      <th>1</th>\n",
       "      <td>flowirin</td>\n",
       "      <td>512</td>\n",
       "      <td>1485804048</td>\n",
       "      <td>1566976257</td>\n",
       "    </tr>\n",
       "    <tr>\n",
       "      <th>2</th>\n",
       "      <td>tobecomegreen</td>\n",
       "      <td>1</td>\n",
       "      <td>1511634206</td>\n",
       "      <td>1511634206</td>\n",
       "    </tr>\n",
       "    <tr>\n",
       "      <th>3</th>\n",
       "      <td>biderjohn</td>\n",
       "      <td>1</td>\n",
       "      <td>1366893342</td>\n",
       "      <td>1366893342</td>\n",
       "    </tr>\n",
       "    <tr>\n",
       "      <th>4</th>\n",
       "      <td>MobileRaspberry</td>\n",
       "      <td>1</td>\n",
       "      <td>1562669698</td>\n",
       "      <td>1562669698</td>\n",
       "    </tr>\n",
       "  </tbody>\n",
       "</table>\n",
       "</div>"
      ],
      "text/plain": [
       "            author  authorContrib  conspStart    conspEnd\n",
       "0        parkowork            256  1379645257  1573504933\n",
       "1         flowirin            512  1485804048  1566976257\n",
       "2    tobecomegreen              1  1511634206  1511634206\n",
       "3        biderjohn              1  1366893342  1366893342\n",
       "4  MobileRaspberry              1  1562669698  1562669698"
      ]
     },
     "execution_count": 3,
     "metadata": {},
     "output_type": "execute_result"
    }
   ],
   "source": [
    "comments.head()"
   ]
  },
  {
   "cell_type": "code",
   "execution_count": 4,
   "metadata": {},
   "outputs": [
    {
     "data": {
      "text/html": [
       "<div>\n",
       "<style scoped>\n",
       "    .dataframe tbody tr th:only-of-type {\n",
       "        vertical-align: middle;\n",
       "    }\n",
       "\n",
       "    .dataframe tbody tr th {\n",
       "        vertical-align: top;\n",
       "    }\n",
       "\n",
       "    .dataframe thead th {\n",
       "        text-align: right;\n",
       "    }\n",
       "</style>\n",
       "<table border=\"1\" class=\"dataframe\">\n",
       "  <thead>\n",
       "    <tr style=\"text-align: right;\">\n",
       "      <th></th>\n",
       "      <th>author</th>\n",
       "      <th>authorContrib</th>\n",
       "      <th>conspStart</th>\n",
       "      <th>conspEnd</th>\n",
       "    </tr>\n",
       "  </thead>\n",
       "  <tbody>\n",
       "    <tr>\n",
       "      <th>0</th>\n",
       "      <td>beatmypete</td>\n",
       "      <td>1</td>\n",
       "      <td>1525173674</td>\n",
       "      <td>1525173674</td>\n",
       "    </tr>\n",
       "    <tr>\n",
       "      <th>1</th>\n",
       "      <td>ernfdtykcoj</td>\n",
       "      <td>1</td>\n",
       "      <td>1456362227</td>\n",
       "      <td>1456362227</td>\n",
       "    </tr>\n",
       "    <tr>\n",
       "      <th>2</th>\n",
       "      <td>rekt_cstv</td>\n",
       "      <td>1</td>\n",
       "      <td>1501182138</td>\n",
       "      <td>1501182138</td>\n",
       "    </tr>\n",
       "    <tr>\n",
       "      <th>3</th>\n",
       "      <td>MicoG</td>\n",
       "      <td>1</td>\n",
       "      <td>1523183402</td>\n",
       "      <td>1523183402</td>\n",
       "    </tr>\n",
       "    <tr>\n",
       "      <th>4</th>\n",
       "      <td>brando00487</td>\n",
       "      <td>1</td>\n",
       "      <td>1541775312</td>\n",
       "      <td>1541775312</td>\n",
       "    </tr>\n",
       "  </tbody>\n",
       "</table>\n",
       "</div>"
      ],
      "text/plain": [
       "        author  authorContrib  conspStart    conspEnd\n",
       "0   beatmypete              1  1525173674  1525173674\n",
       "1  ernfdtykcoj              1  1456362227  1456362227\n",
       "2    rekt_cstv              1  1501182138  1501182138\n",
       "3        MicoG              1  1523183402  1523183402\n",
       "4  brando00487              1  1541775312  1541775312"
      ]
     },
     "execution_count": 4,
     "metadata": {},
     "output_type": "execute_result"
    }
   ],
   "source": [
    "posts.head()"
   ]
  },
  {
   "cell_type": "code",
   "execution_count": 5,
   "metadata": {},
   "outputs": [],
   "source": [
    "comments_auth2contrib = comments.set_index('author').to_dict()['authorContrib']\n",
    "posts_auth2contrib = posts.set_index('author').to_dict()['authorContrib']\n",
    "\n",
    "comments_auth2constart = comments.set_index('author').to_dict()['conspStart']\n",
    "posts_auth2constart = posts.set_index('author').to_dict()['conspStart']\n",
    "\n",
    "comments_auth2conend = comments.set_index('author').to_dict()['conspEnd']\n",
    "posts_auth2conend = posts.set_index('author').to_dict()['conspEnd']\n"
   ]
  },
  {
   "cell_type": "code",
   "execution_count": 6,
   "metadata": {},
   "outputs": [],
   "source": [
    "full_author = list(set(comments['author'].tolist() + posts['author'].tolist()))"
   ]
  },
  {
   "cell_type": "code",
   "execution_count": 9,
   "metadata": {},
   "outputs": [],
   "source": [
    "authorframe = pd.DataFrame()\n",
    "\n",
    "for f in full_author:\n",
    "    try:\n",
    "        contrib = comments_auth2contrib[f] + posts_auth2contrib[f]\n",
    "    except:\n",
    "        try:\n",
    "            contrib = comments_auth2contrib[f]\n",
    "        except:\n",
    "            contrib = posts_auth2contrib[f]\n",
    "            \n",
    "    try:\n",
    "        start = min(comments_auth2constart[f],posts_auth2constart[f])\n",
    "    except:\n",
    "        try:\n",
    "            start = comments_auth2constart[f]\n",
    "        except:\n",
    "            start = posts_auth2constart[f]\n",
    "            \n",
    "    try:\n",
    "        end = max(comments_auth2conend[f],posts_auth2conend[f])\n",
    "    except:\n",
    "        try:\n",
    "            end = comments_auth2conend[f]\n",
    "        except:\n",
    "            end = posts_auth2conend[f]\n",
    "            \n",
    "    authorframe = authorframe.append({'author':f, 'conspContrib':contrib, 'conspStart':start, 'conspEnd':end}, ignore_index=True)\n",
    "\n",
    "   "
   ]
  },
  {
   "cell_type": "code",
   "execution_count": 10,
   "metadata": {},
   "outputs": [
    {
     "data": {
      "text/html": [
       "<div>\n",
       "<style scoped>\n",
       "    .dataframe tbody tr th:only-of-type {\n",
       "        vertical-align: middle;\n",
       "    }\n",
       "\n",
       "    .dataframe tbody tr th {\n",
       "        vertical-align: top;\n",
       "    }\n",
       "\n",
       "    .dataframe thead th {\n",
       "        text-align: right;\n",
       "    }\n",
       "</style>\n",
       "<table border=\"1\" class=\"dataframe\">\n",
       "  <thead>\n",
       "    <tr style=\"text-align: right;\">\n",
       "      <th></th>\n",
       "      <th>author</th>\n",
       "      <th>conspContrib</th>\n",
       "      <th>conspStart</th>\n",
       "      <th>conspEnd</th>\n",
       "    </tr>\n",
       "  </thead>\n",
       "  <tbody>\n",
       "    <tr>\n",
       "      <th>0</th>\n",
       "      <td>TheMelonBandit</td>\n",
       "      <td>10.0</td>\n",
       "      <td>1.573145e+09</td>\n",
       "      <td>1.576780e+09</td>\n",
       "    </tr>\n",
       "    <tr>\n",
       "      <th>1</th>\n",
       "      <td>choodilydoo</td>\n",
       "      <td>3.0</td>\n",
       "      <td>1.422164e+09</td>\n",
       "      <td>1.422165e+09</td>\n",
       "    </tr>\n",
       "    <tr>\n",
       "      <th>2</th>\n",
       "      <td>LostMySoulTwice</td>\n",
       "      <td>1.0</td>\n",
       "      <td>1.541002e+09</td>\n",
       "      <td>1.541002e+09</td>\n",
       "    </tr>\n",
       "    <tr>\n",
       "      <th>3</th>\n",
       "      <td>pooping_on_the_clock</td>\n",
       "      <td>1.0</td>\n",
       "      <td>1.563900e+09</td>\n",
       "      <td>1.563900e+09</td>\n",
       "    </tr>\n",
       "    <tr>\n",
       "      <th>4</th>\n",
       "      <td>recentlyunearthed</td>\n",
       "      <td>189.0</td>\n",
       "      <td>1.376911e+09</td>\n",
       "      <td>1.575211e+09</td>\n",
       "    </tr>\n",
       "  </tbody>\n",
       "</table>\n",
       "</div>"
      ],
      "text/plain": [
       "                 author  conspContrib    conspStart      conspEnd\n",
       "0        TheMelonBandit          10.0  1.573145e+09  1.576780e+09\n",
       "1           choodilydoo           3.0  1.422164e+09  1.422165e+09\n",
       "2       LostMySoulTwice           1.0  1.541002e+09  1.541002e+09\n",
       "3  pooping_on_the_clock           1.0  1.563900e+09  1.563900e+09\n",
       "4     recentlyunearthed         189.0  1.376911e+09  1.575211e+09"
      ]
     },
     "execution_count": 10,
     "metadata": {},
     "output_type": "execute_result"
    }
   ],
   "source": [
    "authorframe.head()"
   ]
  },
  {
   "cell_type": "code",
   "execution_count": 11,
   "metadata": {},
   "outputs": [],
   "source": [
    "authorframe.to_csv(\"../lite_data/conspauthor_startend.csv\")"
   ]
  },
  {
   "cell_type": "code",
   "execution_count": null,
   "metadata": {},
   "outputs": [],
   "source": []
  }
 ],
 "metadata": {
  "kernelspec": {
   "display_name": "Python 3",
   "language": "python",
   "name": "python3"
  },
  "language_info": {
   "codemirror_mode": {
    "name": "ipython",
    "version": 3
   },
   "file_extension": ".py",
   "mimetype": "text/x-python",
   "name": "python",
   "nbconvert_exporter": "python",
   "pygments_lexer": "ipython3",
   "version": "3.8.10"
  }
 },
 "nbformat": 4,
 "nbformat_minor": 4
}
