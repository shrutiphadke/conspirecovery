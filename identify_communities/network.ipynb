{
 "cells": [
  {
   "cell_type": "code",
   "execution_count": 1,
   "metadata": {},
   "outputs": [
    {
     "name": "stdout",
     "output_type": "stream",
     "text": [
      "INFO: Pandarallel will run on 128 workers.\n",
      "INFO: Pandarallel will use Memory file system to transfer data between the main process and workers.\n"
     ]
    }
   ],
   "source": [
    "import networkx as nx\n",
    "import glob\n",
    "from collections import defaultdict, Counter\n",
    "import pandas as pd\n",
    "import numpy as np\n",
    "import matplotlib.pyplot as plt\n",
    "import seaborn as sns\n",
    "\n",
    "from pandarallel import pandarallel\n",
    "pandarallel.initialize()"
   ]
  },
  {
   "cell_type": "code",
   "execution_count": 2,
   "metadata": {},
   "outputs": [],
   "source": [
    "fnames = glob.glob(\"/data/shruti/conspirecovery/reddit/initial/network/subreddit_linkshare00000*.gz\")\n",
    "lstframe = []\n",
    "for f in fnames:\n",
    "    temp_F = pd.read_csv(f, header=0)\n",
    "    lstframe.append(temp_F)"
   ]
  },
  {
   "cell_type": "code",
   "execution_count": 3,
   "metadata": {},
   "outputs": [
    {
     "data": {
      "text/html": [
       "<div>\n",
       "<style scoped>\n",
       "    .dataframe tbody tr th:only-of-type {\n",
       "        vertical-align: middle;\n",
       "    }\n",
       "\n",
       "    .dataframe tbody tr th {\n",
       "        vertical-align: top;\n",
       "    }\n",
       "\n",
       "    .dataframe thead th {\n",
       "        text-align: right;\n",
       "    }\n",
       "</style>\n",
       "<table border=\"1\" class=\"dataframe\">\n",
       "  <thead>\n",
       "    <tr style=\"text-align: right;\">\n",
       "      <th></th>\n",
       "      <th>url</th>\n",
       "      <th>f0_</th>\n",
       "    </tr>\n",
       "  </thead>\n",
       "  <tbody>\n",
       "    <tr>\n",
       "      <th>0</th>\n",
       "      <td>https://fortheloveofbands.com/2019/01/09/how-t...</td>\n",
       "      <td>WeAreTheMusicMakers,spotify</td>\n",
       "    </tr>\n",
       "    <tr>\n",
       "      <th>1</th>\n",
       "      <td>https://i.redd.it/aia31x84zxe21.jpg</td>\n",
       "      <td>crafts,StarWars</td>\n",
       "    </tr>\n",
       "    <tr>\n",
       "      <th>2</th>\n",
       "      <td>https://www.rawstory.com/2018/08/watch-sacha-b...</td>\n",
       "      <td>politics,milwaukee</td>\n",
       "    </tr>\n",
       "    <tr>\n",
       "      <th>3</th>\n",
       "      <td>https://www.ndtv.com/allahabad-news/kumbh-shah...</td>\n",
       "      <td>AutoNewspaper,NDTVauto</td>\n",
       "    </tr>\n",
       "    <tr>\n",
       "      <th>4</th>\n",
       "      <td>https://themerkle.com/bitcoin-cash-price-tops-...</td>\n",
       "      <td>CryptoCurrency,AllThingsCrypto</td>\n",
       "    </tr>\n",
       "  </tbody>\n",
       "</table>\n",
       "</div>"
      ],
      "text/plain": [
       "                                                 url  \\\n",
       "0  https://fortheloveofbands.com/2019/01/09/how-t...   \n",
       "1                https://i.redd.it/aia31x84zxe21.jpg   \n",
       "2  https://www.rawstory.com/2018/08/watch-sacha-b...   \n",
       "3  https://www.ndtv.com/allahabad-news/kumbh-shah...   \n",
       "4  https://themerkle.com/bitcoin-cash-price-tops-...   \n",
       "\n",
       "                              f0_  \n",
       "0     WeAreTheMusicMakers,spotify  \n",
       "1                 crafts,StarWars  \n",
       "2              politics,milwaukee  \n",
       "3          AutoNewspaper,NDTVauto  \n",
       "4  CryptoCurrency,AllThingsCrypto  "
      ]
     },
     "execution_count": 3,
     "metadata": {},
     "output_type": "execute_result"
    }
   ],
   "source": [
    "frame = pd.concat(lstframe)\n",
    "frame.head()"
   ]
  },
  {
   "cell_type": "code",
   "execution_count": 4,
   "metadata": {},
   "outputs": [
    {
     "data": {
      "text/plain": [
       "['url', 'f0_']"
      ]
     },
     "execution_count": 4,
     "metadata": {},
     "output_type": "execute_result"
    }
   ],
   "source": [
    "list(frame)"
   ]
  },
  {
   "cell_type": "code",
   "execution_count": 5,
   "metadata": {},
   "outputs": [],
   "source": [
    "climateskeptic = [\"climateskeptics\",\"greenskeptics\",\"climatechangebullshit\",\"climatehoax\",\"Globalwarmingisfake\",\"climateconspiratard\"]\n",
    "chemprints = [\"CHEMPRINTS\",\"Chemtrail\",\"chemtrails\",\"chemtrailpilots\"]\n",
    "flatearth = [\"notaglobe\",\"theworldisflat\",\"flatearth\", \"Flat_Earth\", \"Flatearther\"]\n",
    "proclimate = [\"ClimateCrisis\", \"CarbonCapture\", \"Climate_Discussion\", \"Climate\", \"ClimateActionPlan\", \"ClimateOffensive\", \"climatechange\"]\n"
   ]
  },
  {
   "cell_type": "code",
   "execution_count": 6,
   "metadata": {},
   "outputs": [],
   "source": [
    "def has_cd(sblst):\n",
    "    for c in climateskeptic:\n",
    "        if c in sblst:\n",
    "            return 1\n",
    "        \n",
    "frame['is_cd'] = frame['f0_'].parallel_apply(lambda x: has_cd(x))"
   ]
  },
  {
   "cell_type": "code",
   "execution_count": 7,
   "metadata": {},
   "outputs": [
    {
     "name": "stdout",
     "output_type": "stream",
     "text": [
      "6831\n"
     ]
    }
   ],
   "source": [
    "frame = frame.loc[frame['is_cd']==1]\n",
    "print(len(frame))"
   ]
  },
  {
   "cell_type": "code",
   "execution_count": 8,
   "metadata": {},
   "outputs": [],
   "source": [
    "nodes = defaultdict(int)\n",
    "edges = defaultdict(int)\n",
    "\n",
    "for idx, row in frame.iterrows():\n",
    "    sublist = row['f0_'].split(\",\")\n",
    "    for s in sublist:\n",
    "        nodes[s]+=1\n",
    "        \n",
    "    for i in range(len(sublist)-1):\n",
    "\n",
    "        for j in range(i+1, len(sublist)):\n",
    "            etuple = sorted([sublist[i], sublist[j]])\n",
    "            edges[(etuple[0], etuple[1])]+=1\n",
    "        "
   ]
  },
  {
   "cell_type": "code",
   "execution_count": null,
   "metadata": {},
   "outputs": [],
   "source": [
    "df = pd.Series(edges).reset_index()   \n",
    "df.columns = ['n1', 'n2', 'weight']   \n",
    "df.head()"
   ]
  },
  {
   "cell_type": "code",
   "execution_count": null,
   "metadata": {},
   "outputs": [],
   "source": [
    "len(df)"
   ]
  },
  {
   "cell_type": "code",
   "execution_count": null,
   "metadata": {},
   "outputs": [],
   "source": [
    "len(df.loc[df['weight']>4])"
   ]
  },
  {
   "cell_type": "code",
   "execution_count": null,
   "metadata": {},
   "outputs": [],
   "source": [
    "df = df.loc[df['weight']>4]"
   ]
  },
  {
   "cell_type": "code",
   "execution_count": null,
   "metadata": {},
   "outputs": [],
   "source": [
    "cooc = pd.pivot_table(df, values='weight', index='n1', columns='n2').reset_index()\n",
    "cooc.head()"
   ]
  },
  {
   "cell_type": "code",
   "execution_count": null,
   "metadata": {},
   "outputs": [],
   "source": [
    "len(cooc)"
   ]
  },
  {
   "cell_type": "code",
   "execution_count": null,
   "metadata": {},
   "outputs": [],
   "source": [
    "sublist = list(cooc)[1:]"
   ]
  },
  {
   "cell_type": "code",
   "execution_count": null,
   "metadata": {},
   "outputs": [],
   "source": [
    "for s in sublist:\n",
    "    cooc[s] = cooc[s].fillna(0)"
   ]
  },
  {
   "cell_type": "code",
   "execution_count": null,
   "metadata": {},
   "outputs": [],
   "source": [
    "import pandas as pd\n",
    "import numpy as np\n",
    "import networkx as nx\n",
    "import matplotlib.pyplot as plt\n",
    "import os\n",
    "import pickle\n",
    "from collections import Counter, defaultdict\n",
    "from itertools import combinations\n",
    "\n",
    "import numpy as np\n",
    "import scipy as sp\n",
    "from tqdm import tqdm\n",
    "from scipy import sparse\n",
    "from scipy.sparse import linalg\n",
    "from sklearn.metrics.pairwise import cosine_similarity"
   ]
  },
  {
   "cell_type": "code",
   "execution_count": null,
   "metadata": {},
   "outputs": [],
   "source": []
  },
  {
   "cell_type": "code",
   "execution_count": null,
   "metadata": {},
   "outputs": [],
   "source": []
  },
  {
   "cell_type": "code",
   "execution_count": null,
   "metadata": {},
   "outputs": [],
   "source": [
    "import networkx as nx\n",
    "\n",
    "G = nx.Graph()\n",
    "\n",
    "# for n in nodes.keys():\n",
    "#     G.add_node(n, size=nodes[n], value=domainvalues[n])\n",
    "\n",
    "ndlist = []\n",
    "    \n",
    "for e in edges:\n",
    "    if nodes[e[0]] > 5 and nodes[e[1]] > 5:\n",
    "        if edges[e] > 2:\n",
    "            if e[0] not in ndlist:\n",
    "                try:\n",
    "                    G.add_node(e[0], size=nodes[e[0]])\n",
    "                except:\n",
    "                    G.add_node(e[0], size=nodes[e[0]])\n",
    "                ndlist.append(e[0])\n",
    "            if e[1] not in ndlist:\n",
    "                try:\n",
    "                    G.add_node(e[1], size=nodes[e[1]])\n",
    "                except:\n",
    "                    G.add_node(e[1], size=nodes[e[1]])\n",
    "                ndlist.append(e[1])\n",
    "\n",
    "\n",
    "            G.add_edge(e[0], e[1], weight=edges[e])"
   ]
  },
  {
   "cell_type": "code",
   "execution_count": null,
   "metadata": {},
   "outputs": [],
   "source": [
    "nx.write_gexf(G, \"./network_new.gexf\", encoding='utf-8')"
   ]
  },
  {
   "cell_type": "code",
   "execution_count": null,
   "metadata": {},
   "outputs": [],
   "source": []
  }
 ],
 "metadata": {
  "kernelspec": {
   "display_name": "Python 3",
   "language": "python",
   "name": "python3"
  },
  "language_info": {
   "codemirror_mode": {
    "name": "ipython",
    "version": 3
   },
   "file_extension": ".py",
   "mimetype": "text/x-python",
   "name": "python",
   "nbconvert_exporter": "python",
   "pygments_lexer": "ipython3",
   "version": "3.8.10"
  }
 },
 "nbformat": 4,
 "nbformat_minor": 4
}
