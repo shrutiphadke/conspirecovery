{
 "cells": [
  {
   "cell_type": "code",
   "execution_count": 1,
   "metadata": {},
   "outputs": [
    {
     "name": "stdout",
     "output_type": "stream",
     "text": [
      "INFO: Pandarallel will run on 128 workers.\n",
      "INFO: Pandarallel will use Memory file system to transfer data between the main process and workers.\n"
     ]
    }
   ],
   "source": [
    "import pandas as pd\n",
    "import numpy as np\n",
    "import pandas as pd\n",
    "import numpy as np\n",
    "import networkx as nx\n",
    "import matplotlib.pyplot as plt\n",
    "import os\n",
    "import pickle as pkl\n",
    "from collections import Counter, defaultdict\n",
    "from itertools import combinations\n",
    "\n",
    "import numpy as np\n",
    "import scipy as sp\n",
    "from tqdm import tqdm\n",
    "from scipy import sparse\n",
    "from scipy.sparse import linalg\n",
    "from sklearn.metrics.pairwise import cosine_similarity\n",
    "\n",
    "from sklearn.cluster import KMeans\n",
    "from sklearn.metrics import silhouette_samples, silhouette_score\n",
    "\n",
    "import matplotlib.pyplot as plt\n",
    "import matplotlib.cm as cm\n",
    "import numpy as np\n",
    "\n",
    "import numpy as np\n",
    "from sklearn.manifold import TSNE\n",
    "import glob\n",
    "\n",
    "from sklearn.metrics.pairwise import cosine_similarity\n",
    "from scipy.spatial.distance import cosine\n",
    "\n",
    "from pandarallel import pandarallel\n",
    "pandarallel.initialize()"
   ]
  },
  {
   "cell_type": "code",
   "execution_count": 2,
   "metadata": {},
   "outputs": [
    {
     "data": {
      "text/html": [
       "<div>\n",
       "<style scoped>\n",
       "    .dataframe tbody tr th:only-of-type {\n",
       "        vertical-align: middle;\n",
       "    }\n",
       "\n",
       "    .dataframe tbody tr th {\n",
       "        vertical-align: top;\n",
       "    }\n",
       "\n",
       "    .dataframe thead th {\n",
       "        text-align: right;\n",
       "    }\n",
       "</style>\n",
       "<table border=\"1\" class=\"dataframe\">\n",
       "  <thead>\n",
       "    <tr style=\"text-align: right;\">\n",
       "      <th></th>\n",
       "      <th>url</th>\n",
       "      <th>f0_</th>\n",
       "      <th>f1_</th>\n",
       "    </tr>\n",
       "  </thead>\n",
       "  <tbody>\n",
       "    <tr>\n",
       "      <th>0</th>\n",
       "      <td>https://www.youtube.com/watch?v=7F2hVzdRdJk&amp;am...</td>\n",
       "      <td>NSFL_,nsfl_videos,MorbidReality,Health,nsfw_wtf</td>\n",
       "      <td>3,5,0,1,1</td>\n",
       "    </tr>\n",
       "    <tr>\n",
       "      <th>1</th>\n",
       "      <td>https://www.independent.co.uk/environment/chic...</td>\n",
       "      <td>UKNewsByABot,u_thegrandspatulass,u_theindepend...</td>\n",
       "      <td>1,1,1,2,1,6,362.5,68</td>\n",
       "    </tr>\n",
       "    <tr>\n",
       "      <th>2</th>\n",
       "      <td>http://thelesboporn.com/hardcore/head-first-ev...</td>\n",
       "      <td>NSFW_Lesbian_Porn,NSFW_LESBIAN_LUST,LesbianGsp...</td>\n",
       "      <td>2,1,1,1,1</td>\n",
       "    </tr>\n",
       "    <tr>\n",
       "      <th>3</th>\n",
       "      <td>http://i.imgur.com/6ElZKZS.jpg</td>\n",
       "      <td>RealGirls,sexycougar,GoneWildHairy,gonewild,Am...</td>\n",
       "      <td>1.5,26,616,330,5.5,2697,1,1468,50,3</td>\n",
       "    </tr>\n",
       "    <tr>\n",
       "      <th>4</th>\n",
       "      <td>http://mouthbreathercult.com/</td>\n",
       "      <td>flocked,Mathcore,Metalcore,experimentalmusic,l...</td>\n",
       "      <td>1,12,2,1,1,1</td>\n",
       "    </tr>\n",
       "  </tbody>\n",
       "</table>\n",
       "</div>"
      ],
      "text/plain": [
       "                                                 url  \\\n",
       "0  https://www.youtube.com/watch?v=7F2hVzdRdJk&am...   \n",
       "1  https://www.independent.co.uk/environment/chic...   \n",
       "2  http://thelesboporn.com/hardcore/head-first-ev...   \n",
       "3                     http://i.imgur.com/6ElZKZS.jpg   \n",
       "4                      http://mouthbreathercult.com/   \n",
       "\n",
       "                                                 f0_  \\\n",
       "0    NSFL_,nsfl_videos,MorbidReality,Health,nsfw_wtf   \n",
       "1  UKNewsByABot,u_thegrandspatulass,u_theindepend...   \n",
       "2  NSFW_Lesbian_Porn,NSFW_LESBIAN_LUST,LesbianGsp...   \n",
       "3  RealGirls,sexycougar,GoneWildHairy,gonewild,Am...   \n",
       "4  flocked,Mathcore,Metalcore,experimentalmusic,l...   \n",
       "\n",
       "                                   f1_  \n",
       "0                            3,5,0,1,1  \n",
       "1                 1,1,1,2,1,6,362.5,68  \n",
       "2                            2,1,1,1,1  \n",
       "3  1.5,26,616,330,5.5,2697,1,1468,50,3  \n",
       "4                         1,12,2,1,1,1  "
      ]
     },
     "execution_count": 2,
     "metadata": {},
     "output_type": "execute_result"
    }
   ],
   "source": [
    "frame = pd.read_csv(\"/data/shruti/conspirecovery/reddit/initial/network/subLinkScores.gz\", \n",
    "                    compression='gzip', header=0)\n",
    "\n",
    "frame.head()"
   ]
  },
  {
   "cell_type": "code",
   "execution_count": 3,
   "metadata": {},
   "outputs": [
    {
     "data": {
      "text/html": [
       "<div>\n",
       "<style scoped>\n",
       "    .dataframe tbody tr th:only-of-type {\n",
       "        vertical-align: middle;\n",
       "    }\n",
       "\n",
       "    .dataframe tbody tr th {\n",
       "        vertical-align: top;\n",
       "    }\n",
       "\n",
       "    .dataframe thead th {\n",
       "        text-align: right;\n",
       "    }\n",
       "</style>\n",
       "<table border=\"1\" class=\"dataframe\">\n",
       "  <thead>\n",
       "    <tr style=\"text-align: right;\">\n",
       "      <th></th>\n",
       "      <th>url</th>\n",
       "      <th>f0_</th>\n",
       "      <th>f1_</th>\n",
       "    </tr>\n",
       "  </thead>\n",
       "  <tbody>\n",
       "    <tr>\n",
       "      <th>325534</th>\n",
       "      <td>https://i.redd.it/wrnwdwzgoy421.jpg</td>\n",
       "      <td>MadeMeSmile,wholesomememes,LibertarianUncensor...</td>\n",
       "      <td>54927,1206,82,19,2,69,290</td>\n",
       "    </tr>\n",
       "    <tr>\n",
       "      <th>1537022</th>\n",
       "      <td>https://mobile.twitter.com/realDonaldTrump/sta...</td>\n",
       "      <td>ResponseToPresident,TrumpTheGreat,TheTwitterFe...</td>\n",
       "      <td>1,1,1,3,1</td>\n",
       "    </tr>\n",
       "    <tr>\n",
       "      <th>1768939</th>\n",
       "      <td>https://www.theguardian.com/commentisfree/2017...</td>\n",
       "      <td>WayOfTheBern,UMukhasimAutoNews,RedditSample,Ec...</td>\n",
       "      <td>12,1,1,1,1</td>\n",
       "    </tr>\n",
       "    <tr>\n",
       "      <th>1045275</th>\n",
       "      <td>https://www.youtube.com/watch?v=eMQStMo0iEg</td>\n",
       "      <td>PromoteGamingVideos,CoD_wwii,Call_of_Duty_WWII...</td>\n",
       "      <td>0,3,4,1,1</td>\n",
       "    </tr>\n",
       "    <tr>\n",
       "      <th>927594</th>\n",
       "      <td>https://gfycat.com/perfectwiltedcaterpillar</td>\n",
       "      <td>interestingasfuck,perfectloops,mildlyinfuriati...</td>\n",
       "      <td>215,8301,4,1,1,36,36,36,76,135.5,103</td>\n",
       "    </tr>\n",
       "  </tbody>\n",
       "</table>\n",
       "</div>"
      ],
      "text/plain": [
       "                                                       url  \\\n",
       "325534                 https://i.redd.it/wrnwdwzgoy421.jpg   \n",
       "1537022  https://mobile.twitter.com/realDonaldTrump/sta...   \n",
       "1768939  https://www.theguardian.com/commentisfree/2017...   \n",
       "1045275        https://www.youtube.com/watch?v=eMQStMo0iEg   \n",
       "927594         https://gfycat.com/perfectwiltedcaterpillar   \n",
       "\n",
       "                                                       f0_  \\\n",
       "325534   MadeMeSmile,wholesomememes,LibertarianUncensor...   \n",
       "1537022  ResponseToPresident,TrumpTheGreat,TheTwitterFe...   \n",
       "1768939  WayOfTheBern,UMukhasimAutoNews,RedditSample,Ec...   \n",
       "1045275  PromoteGamingVideos,CoD_wwii,Call_of_Duty_WWII...   \n",
       "927594   interestingasfuck,perfectloops,mildlyinfuriati...   \n",
       "\n",
       "                                          f1_  \n",
       "325534              54927,1206,82,19,2,69,290  \n",
       "1537022                             1,1,1,3,1  \n",
       "1768939                            12,1,1,1,1  \n",
       "1045275                             0,3,4,1,1  \n",
       "927594   215,8301,4,1,1,36,36,36,76,135.5,103  "
      ]
     },
     "execution_count": 3,
     "metadata": {},
     "output_type": "execute_result"
    }
   ],
   "source": [
    "frame.sample(5)"
   ]
  },
  {
   "cell_type": "code",
   "execution_count": 4,
   "metadata": {},
   "outputs": [
    {
     "data": {
      "text/html": [
       "<div>\n",
       "<style scoped>\n",
       "    .dataframe tbody tr th:only-of-type {\n",
       "        vertical-align: middle;\n",
       "    }\n",
       "\n",
       "    .dataframe tbody tr th {\n",
       "        vertical-align: top;\n",
       "    }\n",
       "\n",
       "    .dataframe thead th {\n",
       "        text-align: right;\n",
       "    }\n",
       "</style>\n",
       "<table border=\"1\" class=\"dataframe\">\n",
       "  <thead>\n",
       "    <tr style=\"text-align: right;\">\n",
       "      <th></th>\n",
       "      <th>subreddit</th>\n",
       "      <th>meanScore</th>\n",
       "      <th>stdScore</th>\n",
       "    </tr>\n",
       "  </thead>\n",
       "  <tbody>\n",
       "    <tr>\n",
       "      <th>0</th>\n",
       "      <td>slabserver</td>\n",
       "      <td>5.900498</td>\n",
       "      <td>4.976567</td>\n",
       "    </tr>\n",
       "    <tr>\n",
       "      <th>1</th>\n",
       "      <td>MLBB</td>\n",
       "      <td>2.028571</td>\n",
       "      <td>1.230231</td>\n",
       "    </tr>\n",
       "    <tr>\n",
       "      <th>2</th>\n",
       "      <td>JJAbrams</td>\n",
       "      <td>1.300000</td>\n",
       "      <td>0.640312</td>\n",
       "    </tr>\n",
       "    <tr>\n",
       "      <th>3</th>\n",
       "      <td>DarcMatterOfficial</td>\n",
       "      <td>8.061474</td>\n",
       "      <td>16.306947</td>\n",
       "    </tr>\n",
       "    <tr>\n",
       "      <th>4</th>\n",
       "      <td>The22Scoops</td>\n",
       "      <td>1.500000</td>\n",
       "      <td>0.802955</td>\n",
       "    </tr>\n",
       "  </tbody>\n",
       "</table>\n",
       "</div>"
      ],
      "text/plain": [
       "            subreddit  meanScore   stdScore\n",
       "0          slabserver   5.900498   4.976567\n",
       "1                MLBB   2.028571   1.230231\n",
       "2            JJAbrams   1.300000   0.640312\n",
       "3  DarcMatterOfficial   8.061474  16.306947\n",
       "4         The22Scoops   1.500000   0.802955"
      ]
     },
     "execution_count": 4,
     "metadata": {},
     "output_type": "execute_result"
    }
   ],
   "source": [
    "meanSTDs = pd.read_csv(\"/home/phadke/recovery/conspirecovery/lite_data/subScoreAvgStd.csv\", header=0)\n",
    "meanSTDs.head()"
   ]
  },
  {
   "cell_type": "code",
   "execution_count": 5,
   "metadata": {},
   "outputs": [],
   "source": [
    "sub2mean = meanSTDs.set_index('subreddit').to_dict()['meanScore']\n",
    "sub2std  = meanSTDs.set_index('subreddit').to_dict()['stdScore']"
   ]
  },
  {
   "cell_type": "code",
   "execution_count": 6,
   "metadata": {},
   "outputs": [],
   "source": [
    "def getZscored(row):\n",
    "    subs = row['f0_'].split(\",\")\n",
    "    scrs = list(map(float, row['f1_'].split(\",\")))\n",
    "    zscrs = []\n",
    "    try:\n",
    "        for i in range(len(scrs)):\n",
    "            z_scr = (scrs[i] - sub2mean[subs[i]])/sub2std[subs[i]]\n",
    "            zscrs.append(z_scr)\n",
    "\n",
    "        return zscrs\n",
    "    except:\n",
    "        fakevar = 0"
   ]
  },
  {
   "cell_type": "code",
   "execution_count": 7,
   "metadata": {},
   "outputs": [],
   "source": [
    "frame['zscores'] = frame.parallel_apply(lambda row: getZscored(row), axis=1)"
   ]
  },
  {
   "cell_type": "code",
   "execution_count": 8,
   "metadata": {},
   "outputs": [
    {
     "data": {
      "text/html": [
       "<div>\n",
       "<style scoped>\n",
       "    .dataframe tbody tr th:only-of-type {\n",
       "        vertical-align: middle;\n",
       "    }\n",
       "\n",
       "    .dataframe tbody tr th {\n",
       "        vertical-align: top;\n",
       "    }\n",
       "\n",
       "    .dataframe thead th {\n",
       "        text-align: right;\n",
       "    }\n",
       "</style>\n",
       "<table border=\"1\" class=\"dataframe\">\n",
       "  <thead>\n",
       "    <tr style=\"text-align: right;\">\n",
       "      <th></th>\n",
       "      <th>url</th>\n",
       "      <th>f0_</th>\n",
       "      <th>f1_</th>\n",
       "      <th>zscores</th>\n",
       "    </tr>\n",
       "  </thead>\n",
       "  <tbody>\n",
       "    <tr>\n",
       "      <th>97695</th>\n",
       "      <td>https://www.youtube.com/watch?v=ThEYMxlRFNA</td>\n",
       "      <td>SmallYoutubers,gamingvids,SmallYTChannel,Adver...</td>\n",
       "      <td>1,1,1,1,1,1</td>\n",
       "      <td>[-0.15927383157131036, -0.07592580530305668, -...</td>\n",
       "    </tr>\n",
       "    <tr>\n",
       "      <th>900663</th>\n",
       "      <td>https://i.imgur.com/uHxE2DG.png</td>\n",
       "      <td>nsfw_snapchat_share,nsfw2,camwhores,snapchatgw...</td>\n",
       "      <td>28,200,134,62,1,1,1,1,98,100,61,3,1,88,1,1,39,...</td>\n",
       "      <td>[2.831809389256382, 1.6638071121304823, 1.5279...</td>\n",
       "    </tr>\n",
       "    <tr>\n",
       "      <th>1673087</th>\n",
       "      <td>http://sextube4mobile.com/teen/lusty-blonde-ba...</td>\n",
       "      <td>teen_porn,Teen_girlxxx,adulttube,HotPoonTube,s...</td>\n",
       "      <td>1,1,1,1,1</td>\n",
       "      <td>[-0.1851432461792231, -0.05786533205423014, -0...</td>\n",
       "    </tr>\n",
       "    <tr>\n",
       "      <th>809867</th>\n",
       "      <td>http://m.imgur.com/a/g0uSh</td>\n",
       "      <td>kinksters_gone_wild,WouldYouFuckMyWife,Swinger...</td>\n",
       "      <td>34,14,55,16,4,61,21</td>\n",
       "      <td>[-0.30435995082593686, -0.22397671153647475, -...</td>\n",
       "    </tr>\n",
       "    <tr>\n",
       "      <th>1805383</th>\n",
       "      <td>https://gfycat.com/repentantweeklycow</td>\n",
       "      <td>cock,penis,Perfectdick,selfservice,MalesMastur...</td>\n",
       "      <td>5,5,0,3,31,4</td>\n",
       "      <td>[-0.2088103688214328, -0.2386535272786093, -0....</td>\n",
       "    </tr>\n",
       "  </tbody>\n",
       "</table>\n",
       "</div>"
      ],
      "text/plain": [
       "                                                       url  \\\n",
       "97695          https://www.youtube.com/watch?v=ThEYMxlRFNA   \n",
       "900663                     https://i.imgur.com/uHxE2DG.png   \n",
       "1673087  http://sextube4mobile.com/teen/lusty-blonde-ba...   \n",
       "809867                          http://m.imgur.com/a/g0uSh   \n",
       "1805383              https://gfycat.com/repentantweeklycow   \n",
       "\n",
       "                                                       f0_  \\\n",
       "97695    SmallYoutubers,gamingvids,SmallYTChannel,Adver...   \n",
       "900663   nsfw_snapchat_share,nsfw2,camwhores,snapchatgw...   \n",
       "1673087  teen_porn,Teen_girlxxx,adulttube,HotPoonTube,s...   \n",
       "809867   kinksters_gone_wild,WouldYouFuckMyWife,Swinger...   \n",
       "1805383  cock,penis,Perfectdick,selfservice,MalesMastur...   \n",
       "\n",
       "                                                       f1_  \\\n",
       "97695                                          1,1,1,1,1,1   \n",
       "900663   28,200,134,62,1,1,1,1,98,100,61,3,1,88,1,1,39,...   \n",
       "1673087                                          1,1,1,1,1   \n",
       "809867                                 34,14,55,16,4,61,21   \n",
       "1805383                                       5,5,0,3,31,4   \n",
       "\n",
       "                                                   zscores  \n",
       "97695    [-0.15927383157131036, -0.07592580530305668, -...  \n",
       "900663   [2.831809389256382, 1.6638071121304823, 1.5279...  \n",
       "1673087  [-0.1851432461792231, -0.05786533205423014, -0...  \n",
       "809867   [-0.30435995082593686, -0.22397671153647475, -...  \n",
       "1805383  [-0.2088103688214328, -0.2386535272786093, -0....  "
      ]
     },
     "execution_count": 8,
     "metadata": {},
     "output_type": "execute_result"
    }
   ],
   "source": [
    "frame.sample(5)"
   ]
  },
  {
   "cell_type": "code",
   "execution_count": 9,
   "metadata": {},
   "outputs": [
    {
     "data": {
      "text/plain": [
       "2593714"
      ]
     },
     "execution_count": 9,
     "metadata": {},
     "output_type": "execute_result"
    }
   ],
   "source": [
    "len(frame)"
   ]
  },
  {
   "cell_type": "code",
   "execution_count": 10,
   "metadata": {},
   "outputs": [
    {
     "data": {
      "text/plain": [
       "2509394"
      ]
     },
     "execution_count": 10,
     "metadata": {},
     "output_type": "execute_result"
    }
   ],
   "source": [
    "len(frame.dropna(subset=['zscores']))"
   ]
  },
  {
   "cell_type": "code",
   "execution_count": 11,
   "metadata": {},
   "outputs": [],
   "source": [
    "frame = frame.dropna(subset=['zscores'])"
   ]
  },
  {
   "cell_type": "code",
   "execution_count": 12,
   "metadata": {},
   "outputs": [],
   "source": [
    "groupScores = defaultdict(list)\n",
    "\n",
    "for idx, row in frame.iterrows():\n",
    "    rowsubs = row['f0_'].split(\",\")\n",
    "    rowscores = row['zscores']\n",
    "    if len(rowsubs)==len(rowscores):\n",
    "    \n",
    "        for i in range(len(rowsubs)-1):\n",
    "            for j in range(i+1, len(rowsubs)):\n",
    "                subtuple = sorted([rowsubs[i], rowsubs[j]])\n",
    "                stuple = (subtuple[0], subtuple[1])\n",
    "                subidx1 = rowsubs.index(subtuple[0])\n",
    "                subidx2 = rowsubs.index(subtuple[1])\n",
    "                if stuple not in groupScores:\n",
    "                    groupScores[stuple] = [[],[]]\n",
    "\n",
    "                groupScores[stuple][0].append(rowscores[subidx1])\n",
    "                groupScores[stuple][1].append(rowscores[subidx2])\n",
    "            \n",
    "    "
   ]
  },
  {
   "cell_type": "code",
   "execution_count": 13,
   "metadata": {
    "scrolled": true
   },
   "outputs": [
    {
     "ename": "KeyboardInterrupt",
     "evalue": "",
     "output_type": "error",
     "traceback": [
      "\u001b[0;31m---------------------------------------------------------------------------\u001b[0m",
      "\u001b[0;31mKeyboardInterrupt\u001b[0m                         Traceback (most recent call last)",
      "\u001b[0;32m<ipython-input-13-77e8be496992>\u001b[0m in \u001b[0;36m<module>\u001b[0;34m\u001b[0m\n\u001b[0;32m----> 1\u001b[0;31m \u001b[0mgroupScores\u001b[0m\u001b[0;34m\u001b[0m\u001b[0;34m\u001b[0m\u001b[0m\n\u001b[0m",
      "\u001b[0;32m/usr/lib/python3/dist-packages/IPython/core/displayhook.py\u001b[0m in \u001b[0;36m__call__\u001b[0;34m(self, result)\u001b[0m\n\u001b[1;32m    260\u001b[0m             \u001b[0mself\u001b[0m\u001b[0;34m.\u001b[0m\u001b[0mstart_displayhook\u001b[0m\u001b[0;34m(\u001b[0m\u001b[0;34m)\u001b[0m\u001b[0;34m\u001b[0m\u001b[0;34m\u001b[0m\u001b[0m\n\u001b[1;32m    261\u001b[0m             \u001b[0mself\u001b[0m\u001b[0;34m.\u001b[0m\u001b[0mwrite_output_prompt\u001b[0m\u001b[0;34m(\u001b[0m\u001b[0;34m)\u001b[0m\u001b[0;34m\u001b[0m\u001b[0;34m\u001b[0m\u001b[0m\n\u001b[0;32m--> 262\u001b[0;31m             \u001b[0mformat_dict\u001b[0m\u001b[0;34m,\u001b[0m \u001b[0mmd_dict\u001b[0m \u001b[0;34m=\u001b[0m \u001b[0mself\u001b[0m\u001b[0;34m.\u001b[0m\u001b[0mcompute_format_data\u001b[0m\u001b[0;34m(\u001b[0m\u001b[0mresult\u001b[0m\u001b[0;34m)\u001b[0m\u001b[0;34m\u001b[0m\u001b[0;34m\u001b[0m\u001b[0m\n\u001b[0m\u001b[1;32m    263\u001b[0m             \u001b[0mself\u001b[0m\u001b[0;34m.\u001b[0m\u001b[0mupdate_user_ns\u001b[0m\u001b[0;34m(\u001b[0m\u001b[0mresult\u001b[0m\u001b[0;34m)\u001b[0m\u001b[0;34m\u001b[0m\u001b[0;34m\u001b[0m\u001b[0m\n\u001b[1;32m    264\u001b[0m             \u001b[0mself\u001b[0m\u001b[0;34m.\u001b[0m\u001b[0mfill_exec_result\u001b[0m\u001b[0;34m(\u001b[0m\u001b[0mresult\u001b[0m\u001b[0;34m)\u001b[0m\u001b[0;34m\u001b[0m\u001b[0;34m\u001b[0m\u001b[0m\n",
      "\u001b[0;32m/usr/lib/python3/dist-packages/IPython/core/displayhook.py\u001b[0m in \u001b[0;36mcompute_format_data\u001b[0;34m(self, result)\u001b[0m\n\u001b[1;32m    149\u001b[0m \u001b[0;34m\u001b[0m\u001b[0m\n\u001b[1;32m    150\u001b[0m         \"\"\"\n\u001b[0;32m--> 151\u001b[0;31m         \u001b[0;32mreturn\u001b[0m \u001b[0mself\u001b[0m\u001b[0;34m.\u001b[0m\u001b[0mshell\u001b[0m\u001b[0;34m.\u001b[0m\u001b[0mdisplay_formatter\u001b[0m\u001b[0;34m.\u001b[0m\u001b[0mformat\u001b[0m\u001b[0;34m(\u001b[0m\u001b[0mresult\u001b[0m\u001b[0;34m)\u001b[0m\u001b[0;34m\u001b[0m\u001b[0;34m\u001b[0m\u001b[0m\n\u001b[0m\u001b[1;32m    152\u001b[0m \u001b[0;34m\u001b[0m\u001b[0m\n\u001b[1;32m    153\u001b[0m     \u001b[0;31m# This can be set to True by the write_output_prompt method in a subclass\u001b[0m\u001b[0;34m\u001b[0m\u001b[0;34m\u001b[0m\u001b[0;34m\u001b[0m\u001b[0m\n",
      "\u001b[0;32m/usr/lib/python3/dist-packages/IPython/core/formatters.py\u001b[0m in \u001b[0;36mformat\u001b[0;34m(self, obj, include, exclude)\u001b[0m\n\u001b[1;32m    178\u001b[0m             \u001b[0mmd\u001b[0m \u001b[0;34m=\u001b[0m \u001b[0;32mNone\u001b[0m\u001b[0;34m\u001b[0m\u001b[0;34m\u001b[0m\u001b[0m\n\u001b[1;32m    179\u001b[0m             \u001b[0;32mtry\u001b[0m\u001b[0;34m:\u001b[0m\u001b[0;34m\u001b[0m\u001b[0;34m\u001b[0m\u001b[0m\n\u001b[0;32m--> 180\u001b[0;31m                 \u001b[0mdata\u001b[0m \u001b[0;34m=\u001b[0m \u001b[0mformatter\u001b[0m\u001b[0;34m(\u001b[0m\u001b[0mobj\u001b[0m\u001b[0;34m)\u001b[0m\u001b[0;34m\u001b[0m\u001b[0;34m\u001b[0m\u001b[0m\n\u001b[0m\u001b[1;32m    181\u001b[0m             \u001b[0;32mexcept\u001b[0m\u001b[0;34m:\u001b[0m\u001b[0;34m\u001b[0m\u001b[0;34m\u001b[0m\u001b[0m\n\u001b[1;32m    182\u001b[0m                 \u001b[0;31m# FIXME: log the exception\u001b[0m\u001b[0;34m\u001b[0m\u001b[0;34m\u001b[0m\u001b[0;34m\u001b[0m\u001b[0m\n",
      "\u001b[0;32m<decorator-gen-10>\u001b[0m in \u001b[0;36m__call__\u001b[0;34m(self, obj)\u001b[0m\n",
      "\u001b[0;32m/usr/lib/python3/dist-packages/IPython/core/formatters.py\u001b[0m in \u001b[0;36mcatch_format_error\u001b[0;34m(method, self, *args, **kwargs)\u001b[0m\n\u001b[1;32m    222\u001b[0m     \u001b[0;34m\"\"\"show traceback on failed format call\"\"\"\u001b[0m\u001b[0;34m\u001b[0m\u001b[0;34m\u001b[0m\u001b[0m\n\u001b[1;32m    223\u001b[0m     \u001b[0;32mtry\u001b[0m\u001b[0;34m:\u001b[0m\u001b[0;34m\u001b[0m\u001b[0;34m\u001b[0m\u001b[0m\n\u001b[0;32m--> 224\u001b[0;31m         \u001b[0mr\u001b[0m \u001b[0;34m=\u001b[0m \u001b[0mmethod\u001b[0m\u001b[0;34m(\u001b[0m\u001b[0mself\u001b[0m\u001b[0;34m,\u001b[0m \u001b[0;34m*\u001b[0m\u001b[0margs\u001b[0m\u001b[0;34m,\u001b[0m \u001b[0;34m**\u001b[0m\u001b[0mkwargs\u001b[0m\u001b[0;34m)\u001b[0m\u001b[0;34m\u001b[0m\u001b[0;34m\u001b[0m\u001b[0m\n\u001b[0m\u001b[1;32m    225\u001b[0m     \u001b[0;32mexcept\u001b[0m \u001b[0mNotImplementedError\u001b[0m\u001b[0;34m:\u001b[0m\u001b[0;34m\u001b[0m\u001b[0;34m\u001b[0m\u001b[0m\n\u001b[1;32m    226\u001b[0m         \u001b[0;31m# don't warn on NotImplementedErrors\u001b[0m\u001b[0;34m\u001b[0m\u001b[0;34m\u001b[0m\u001b[0;34m\u001b[0m\u001b[0m\n",
      "\u001b[0;32m/usr/lib/python3/dist-packages/IPython/core/formatters.py\u001b[0m in \u001b[0;36m__call__\u001b[0;34m(self, obj)\u001b[0m\n\u001b[1;32m    700\u001b[0m                 \u001b[0mtype_pprinters\u001b[0m\u001b[0;34m=\u001b[0m\u001b[0mself\u001b[0m\u001b[0;34m.\u001b[0m\u001b[0mtype_printers\u001b[0m\u001b[0;34m,\u001b[0m\u001b[0;34m\u001b[0m\u001b[0;34m\u001b[0m\u001b[0m\n\u001b[1;32m    701\u001b[0m                 deferred_pprinters=self.deferred_printers)\n\u001b[0;32m--> 702\u001b[0;31m             \u001b[0mprinter\u001b[0m\u001b[0;34m.\u001b[0m\u001b[0mpretty\u001b[0m\u001b[0;34m(\u001b[0m\u001b[0mobj\u001b[0m\u001b[0;34m)\u001b[0m\u001b[0;34m\u001b[0m\u001b[0;34m\u001b[0m\u001b[0m\n\u001b[0m\u001b[1;32m    703\u001b[0m             \u001b[0mprinter\u001b[0m\u001b[0;34m.\u001b[0m\u001b[0mflush\u001b[0m\u001b[0;34m(\u001b[0m\u001b[0;34m)\u001b[0m\u001b[0;34m\u001b[0m\u001b[0;34m\u001b[0m\u001b[0m\n\u001b[1;32m    704\u001b[0m             \u001b[0;32mreturn\u001b[0m \u001b[0mstream\u001b[0m\u001b[0;34m.\u001b[0m\u001b[0mgetvalue\u001b[0m\u001b[0;34m(\u001b[0m\u001b[0;34m)\u001b[0m\u001b[0;34m\u001b[0m\u001b[0;34m\u001b[0m\u001b[0m\n",
      "\u001b[0;32m/usr/lib/python3/dist-packages/IPython/lib/pretty.py\u001b[0m in \u001b[0;36mpretty\u001b[0;34m(self, obj)\u001b[0m\n\u001b[1;32m    380\u001b[0m                     \u001b[0mprinter\u001b[0m \u001b[0;34m=\u001b[0m \u001b[0mself\u001b[0m\u001b[0;34m.\u001b[0m\u001b[0m_in_deferred_types\u001b[0m\u001b[0;34m(\u001b[0m\u001b[0mcls\u001b[0m\u001b[0;34m)\u001b[0m\u001b[0;34m\u001b[0m\u001b[0;34m\u001b[0m\u001b[0m\n\u001b[1;32m    381\u001b[0m                     \u001b[0;32mif\u001b[0m \u001b[0mprinter\u001b[0m \u001b[0;32mis\u001b[0m \u001b[0;32mnot\u001b[0m \u001b[0;32mNone\u001b[0m\u001b[0;34m:\u001b[0m\u001b[0;34m\u001b[0m\u001b[0;34m\u001b[0m\u001b[0m\n\u001b[0;32m--> 382\u001b[0;31m                         \u001b[0;32mreturn\u001b[0m \u001b[0mprinter\u001b[0m\u001b[0;34m(\u001b[0m\u001b[0mobj\u001b[0m\u001b[0;34m,\u001b[0m \u001b[0mself\u001b[0m\u001b[0;34m,\u001b[0m \u001b[0mcycle\u001b[0m\u001b[0;34m)\u001b[0m\u001b[0;34m\u001b[0m\u001b[0;34m\u001b[0m\u001b[0m\n\u001b[0m\u001b[1;32m    383\u001b[0m                     \u001b[0;32melse\u001b[0m\u001b[0;34m:\u001b[0m\u001b[0;34m\u001b[0m\u001b[0;34m\u001b[0m\u001b[0m\n\u001b[1;32m    384\u001b[0m                         \u001b[0;31m# Finally look for special method names.\u001b[0m\u001b[0;34m\u001b[0m\u001b[0;34m\u001b[0m\u001b[0;34m\u001b[0m\u001b[0m\n",
      "\u001b[0;32m/usr/lib/python3/dist-packages/IPython/lib/pretty.py\u001b[0m in \u001b[0;36m_defaultdict_pprint\u001b[0;34m(obj, p, cycle)\u001b[0m\n\u001b[1;32m    809\u001b[0m             \u001b[0mp\u001b[0m\u001b[0;34m.\u001b[0m\u001b[0mtext\u001b[0m\u001b[0;34m(\u001b[0m\u001b[0;34m','\u001b[0m\u001b[0;34m)\u001b[0m\u001b[0;34m\u001b[0m\u001b[0;34m\u001b[0m\u001b[0m\n\u001b[1;32m    810\u001b[0m             \u001b[0mp\u001b[0m\u001b[0;34m.\u001b[0m\u001b[0mbreakable\u001b[0m\u001b[0;34m(\u001b[0m\u001b[0;34m)\u001b[0m\u001b[0;34m\u001b[0m\u001b[0;34m\u001b[0m\u001b[0m\n\u001b[0;32m--> 811\u001b[0;31m             \u001b[0mp\u001b[0m\u001b[0;34m.\u001b[0m\u001b[0mpretty\u001b[0m\u001b[0;34m(\u001b[0m\u001b[0mdict\u001b[0m\u001b[0;34m(\u001b[0m\u001b[0mobj\u001b[0m\u001b[0;34m)\u001b[0m\u001b[0;34m)\u001b[0m\u001b[0;34m\u001b[0m\u001b[0;34m\u001b[0m\u001b[0m\n\u001b[0m\u001b[1;32m    812\u001b[0m \u001b[0;34m\u001b[0m\u001b[0m\n\u001b[1;32m    813\u001b[0m \u001b[0;32mdef\u001b[0m \u001b[0m_ordereddict_pprint\u001b[0m\u001b[0;34m(\u001b[0m\u001b[0mobj\u001b[0m\u001b[0;34m,\u001b[0m \u001b[0mp\u001b[0m\u001b[0;34m,\u001b[0m \u001b[0mcycle\u001b[0m\u001b[0;34m)\u001b[0m\u001b[0;34m:\u001b[0m\u001b[0;34m\u001b[0m\u001b[0;34m\u001b[0m\u001b[0m\n",
      "\u001b[0;31mKeyboardInterrupt\u001b[0m: "
     ]
    }
   ],
   "source": [
    "groupScores"
   ]
  },
  {
   "cell_type": "code",
   "execution_count": 17,
   "metadata": {},
   "outputs": [
    {
     "data": {
      "text/plain": [
       "374"
      ]
     },
     "execution_count": 17,
     "metadata": {},
     "output_type": "execute_result"
    }
   ],
   "source": [
    "len(groupScores[('climateskeptics', 'conspiracy')][1])"
   ]
  },
  {
   "cell_type": "code",
   "execution_count": 23,
   "metadata": {},
   "outputs": [],
   "source": [
    "# import pickle as pkl\n",
    "# with open(\"/data/shruti/conspirecovery/reddit/initial/network/network_paied_scores.pkl\", \"wb\") as pfile:\n",
    "#     pkl.dump(groupScores, pfile)"
   ]
  },
  {
   "cell_type": "code",
   "execution_count": 24,
   "metadata": {},
   "outputs": [],
   "source": [
    "frame.to_csv(\"/data/shruti/conspirecovery/reddit/initial/network/sublinkscore_zscored.csv\", header=0)"
   ]
  },
  {
   "cell_type": "code",
   "execution_count": 2,
   "metadata": {},
   "outputs": [],
   "source": [
    "with open(\"/data/shruti/conspirecovery/reddit/initial/network/network_paied_scores.pkl\", \"rb\") as pfile:\n",
    "    groupScores = pkl.load(pfile)"
   ]
  },
  {
   "cell_type": "code",
   "execution_count": 3,
   "metadata": {},
   "outputs": [],
   "source": [
    "from scipy.stats import pearsonr"
   ]
  },
  {
   "cell_type": "code",
   "execution_count": 15,
   "metadata": {},
   "outputs": [
    {
     "name": "stderr",
     "output_type": "stream",
     "text": [
      "/home/phadke/.local/lib/python3.8/site-packages/scipy/stats/stats.py:4023: PearsonRConstantInputWarning: An input array is constant; the correlation coefficient is not defined.\n",
      "  warnings.warn(PearsonRConstantInputWarning())\n"
     ]
    }
   ],
   "source": [
    "sublinkcorr = defaultdict()\n",
    "\n",
    "for k in groupScores.keys():\n",
    "    if len(groupScores[k][0]) > 15:\n",
    "        corr = pearsonr(groupScores[k][0], groupScores[k][1])\n",
    "        sublinkcorr[k] = corr"
   ]
  },
  {
   "cell_type": "code",
   "execution_count": 16,
   "metadata": {},
   "outputs": [
    {
     "data": {
      "text/plain": [
       "(0.43848070144740986, 5.268174814421419e-19)"
      ]
     },
     "execution_count": 16,
     "metadata": {},
     "output_type": "execute_result"
    }
   ],
   "source": [
    "sublinkcorr[('climateskeptics', 'conspiracy')]"
   ]
  },
  {
   "cell_type": "code",
   "execution_count": 17,
   "metadata": {},
   "outputs": [],
   "source": [
    "tuplelists = list(zip(*list(sublinkcorr.keys())))\n",
    "\n",
    "sublist = tuplelists[0] + tuplelists[1]\n",
    "\n",
    "# for t in tuplelists:\n",
    "#     sublist.append(t[0])\n",
    "#     sublist.append(t[1])\n",
    "    \n",
    "sublist = list(set(sublist))"
   ]
  },
  {
   "cell_type": "code",
   "execution_count": 18,
   "metadata": {},
   "outputs": [
    {
     "data": {
      "text/plain": [
       "33567"
      ]
     },
     "execution_count": 18,
     "metadata": {},
     "output_type": "execute_result"
    }
   ],
   "source": [
    "len(sublist)"
   ]
  },
  {
   "cell_type": "code",
   "execution_count": 19,
   "metadata": {},
   "outputs": [],
   "source": [
    "coocMat = np.zeros((len(sublist), len(sublist)),)"
   ]
  },
  {
   "cell_type": "code",
   "execution_count": 20,
   "metadata": {},
   "outputs": [
    {
     "data": {
      "text/plain": [
       "(33567, 33567)"
      ]
     },
     "execution_count": 20,
     "metadata": {},
     "output_type": "execute_result"
    }
   ],
   "source": [
    "coocMat.shape"
   ]
  },
  {
   "cell_type": "code",
   "execution_count": 21,
   "metadata": {},
   "outputs": [],
   "source": [
    "for tplist in list(sublinkcorr.keys()):\n",
    "    n1_idx = sublist.index(tplist[0])\n",
    "    n2_idx = sublist.index(tplist[1])\n",
    "    \n",
    "    coocMat[n1_idx, n2_idx] = sublinkcorr[tplist][0]\n",
    "    coocMat[n2_idx, n1_idx] = sublinkcorr[tplist][0]\n"
   ]
  },
  {
   "cell_type": "code",
   "execution_count": 22,
   "metadata": {},
   "outputs": [
    {
     "data": {
      "text/plain": [
       "array([[0., 0., 0., ..., 0., 0., 0.],\n",
       "       [0., 0., 0., ..., 0., 0., 0.],\n",
       "       [0., 0., 0., ..., 0., 0., 0.],\n",
       "       ...,\n",
       "       [0., 0., 0., ..., 0., 0., 0.],\n",
       "       [0., 0., 0., ..., 0., 0., 0.],\n",
       "       [0., 0., 0., ..., 0., 0., 0.]])"
      ]
     },
     "execution_count": 22,
     "metadata": {},
     "output_type": "execute_result"
    }
   ],
   "source": [
    "coocMat"
   ]
  },
  {
   "cell_type": "code",
   "execution_count": 24,
   "metadata": {},
   "outputs": [
    {
     "data": {
      "text/plain": [
       "(33567, 33567)"
      ]
     },
     "execution_count": 24,
     "metadata": {},
     "output_type": "execute_result"
    }
   ],
   "source": [
    "coocMat.shape"
   ]
  },
  {
   "cell_type": "code",
   "execution_count": 27,
   "metadata": {},
   "outputs": [
    {
     "data": {
      "text/plain": [
       "0.12247634788585407"
      ]
     },
     "execution_count": 27,
     "metadata": {},
     "output_type": "execute_result"
    }
   ],
   "source": [
    "np.sum(coocMat[:,1])"
   ]
  },
  {
   "cell_type": "code",
   "execution_count": 44,
   "metadata": {},
   "outputs": [],
   "source": [
    "# with open(\"/data/shruti/conspirecovery/reddit/initial/network/coocMat.pkl\", \"wb\") as pfile:\n",
    "#     pkl.dump(coocMat, pfile)"
   ]
  },
  {
   "cell_type": "code",
   "execution_count": 12,
   "metadata": {},
   "outputs": [],
   "source": [
    "# with open(\"/data/shruti/conspirecovery/reddit/initial/network/coocMat.pkl\", \"rb\") as pfile:\n",
    "#     coocMat = pkl.load(pfile)"
   ]
  },
  {
   "cell_type": "code",
   "execution_count": 13,
   "metadata": {},
   "outputs": [
    {
     "data": {
      "text/plain": [
       "array([[ 0.        , -0.03338903,  0.        , ...,  0.03081668,\n",
       "         0.        ,  0.        ],\n",
       "       [-0.03338903,  0.        ,  0.        , ...,  0.        ,\n",
       "         0.        ,  0.        ],\n",
       "       [ 0.        ,  0.        ,  0.        , ...,  0.        ,\n",
       "         0.        ,  0.        ],\n",
       "       ...,\n",
       "       [ 0.03081668,  0.        ,  0.        , ...,  0.        ,\n",
       "         0.        ,  0.        ],\n",
       "       [ 0.        ,  0.        ,  0.        , ...,  0.        ,\n",
       "         0.        ,  0.        ],\n",
       "       [ 0.        ,  0.        ,  0.        , ...,  0.        ,\n",
       "         0.        ,  0.        ]])"
      ]
     },
     "execution_count": 13,
     "metadata": {},
     "output_type": "execute_result"
    }
   ],
   "source": [
    "coocMat"
   ]
  },
  {
   "cell_type": "code",
   "execution_count": null,
   "metadata": {},
   "outputs": [],
   "source": []
  },
  {
   "cell_type": "code",
   "execution_count": 14,
   "metadata": {},
   "outputs": [
    {
     "data": {
      "text/plain": [
       "(63819, 63819)"
      ]
     },
     "execution_count": 14,
     "metadata": {},
     "output_type": "execute_result"
    }
   ],
   "source": [
    "coocMat.shape"
   ]
  },
  {
   "cell_type": "code",
   "execution_count": 28,
   "metadata": {},
   "outputs": [],
   "source": [
    "def get_svd_matrix(pmi_matrix, embedding_size=200,\n",
    "                   svd_diag_exponent=0.5):\n",
    "    uu, ss, vv = linalg.svds(pmi_matrix, embedding_size)\n",
    "\n",
    "    print('ppmi size: {}'.format(pmi_matrix.shape))\n",
    "    print('embedding size: {}'.format(embedding_size))\n",
    "    print('uu.shape: {}'.format(uu.shape))\n",
    "    print('ss.shape: {}'.format(ss.shape))\n",
    "    print('vv.shape: {}'.format(vv.shape))\n",
    "\n",
    "    svd_word_vecs = uu.dot(np.diag(ss ** svd_diag_exponent))\n",
    "    print(svd_word_vecs.shape)\n",
    "    return svd_word_vecs"
   ]
  },
  {
   "cell_type": "code",
   "execution_count": 29,
   "metadata": {},
   "outputs": [
    {
     "name": "stdout",
     "output_type": "stream",
     "text": [
      "ppmi size: (33567, 33567)\n",
      "embedding size: 200\n",
      "uu.shape: (33567, 200)\n",
      "ss.shape: (200,)\n",
      "vv.shape: (200, 33567)\n",
      "(33567, 200)\n"
     ]
    }
   ],
   "source": [
    "svdMat = get_svd_matrix(coocMat, embedding_size=200)"
   ]
  },
  {
   "cell_type": "code",
   "execution_count": 30,
   "metadata": {},
   "outputs": [
    {
     "data": {
      "text/plain": [
       "array([[0., 0., 0., ..., 0., 0., 0.],\n",
       "       [0., 0., 0., ..., 0., 0., 0.],\n",
       "       [0., 0., 0., ..., 0., 0., 0.],\n",
       "       ...,\n",
       "       [0., 0., 0., ..., 0., 0., 0.],\n",
       "       [0., 0., 0., ..., 0., 0., 0.],\n",
       "       [0., 0., 0., ..., 0., 0., 0.]])"
      ]
     },
     "execution_count": 30,
     "metadata": {},
     "output_type": "execute_result"
    }
   ],
   "source": [
    "svdMat"
   ]
  },
  {
   "cell_type": "code",
   "execution_count": 33,
   "metadata": {},
   "outputs": [
    {
     "data": {
      "text/plain": [
       "0.0"
      ]
     },
     "execution_count": 33,
     "metadata": {},
     "output_type": "execute_result"
    }
   ],
   "source": [
    "np.sum(svdMat[:,3])"
   ]
  },
  {
   "cell_type": "code",
   "execution_count": null,
   "metadata": {},
   "outputs": [],
   "source": []
  }
 ],
 "metadata": {
  "kernelspec": {
   "display_name": "Python 3",
   "language": "python",
   "name": "python3"
  },
  "language_info": {
   "codemirror_mode": {
    "name": "ipython",
    "version": 3
   },
   "file_extension": ".py",
   "mimetype": "text/x-python",
   "name": "python",
   "nbconvert_exporter": "python",
   "pygments_lexer": "ipython3",
   "version": "3.8.10"
  }
 },
 "nbformat": 4,
 "nbformat_minor": 4
}
