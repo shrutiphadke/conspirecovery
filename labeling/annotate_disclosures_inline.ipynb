{
 "cells": [
  {
   "cell_type": "code",
   "execution_count": 1,
   "metadata": {},
   "outputs": [],
   "source": [
    "import pandas as pd\n",
    "from collections import Counter, defaultdict\n",
    "import glob\n",
    "import json\n",
    "import pandas as pd\n",
    "import pigeonXT as pixt\n"
   ]
  },
  {
   "cell_type": "code",
   "execution_count": null,
   "metadata": {},
   "outputs": [],
   "source": [
    "comments = pd.read_csv(\"../big_data/qsub_comments.csv\", header=0)\n",
    "comments.head()"
   ]
  },
  {
   "cell_type": "code",
   "execution_count": null,
   "metadata": {},
   "outputs": [],
   "source": [
    "comments = comments.dropna(subset=['title'])"
   ]
  },
  {
   "cell_type": "code",
   "execution_count": null,
   "metadata": {},
   "outputs": [],
   "source": [
    "def findInText(text):\n",
    "    phrases = [' i recovered', ' i went down ', ' i used to believe', ' i am ex-', \"i believed q\",\n",
    "               \" i started getting into\", \" i recovered\", \" i am struggling \", \" i'm struggling \",\n",
    "               \" i left q\", \" i don't believe anymore\", \" i stopped believing\", \" i fell for \"]\n",
    "#     phrases = [\"i don't believe\"]\n",
    "    for p in phrases:\n",
    "        if p in text.lower():\n",
    "            return 1\n",
    "    \n",
    "comments['potential_recovery_1']  =comments['title'].apply(lambda x: findInText(x))"
   ]
  },
  {
   "cell_type": "code",
   "execution_count": null,
   "metadata": {},
   "outputs": [],
   "source": [
    "len(comments.loc[comments['potential_recovery_1']==1])"
   ]
  },
  {
   "cell_type": "code",
   "execution_count": null,
   "metadata": {},
   "outputs": [],
   "source": [
    "# annotation_Set_1 = comments.loc[comments['potential_recovery_1']==1]\n",
    "# annotation_Set_1.to_csv(\"../lite_data/to_annotate_recovery_phrases.csv\")"
   ]
  },
  {
   "cell_type": "code",
   "execution_count": 2,
   "metadata": {},
   "outputs": [],
   "source": [
    "annotation_Set_1 = pd.read_csv(\"../lite_data/annotated_recovery_phrases_2.csv\")\n",
    "annotation_Set_1 = annotation_Set_1.loc[annotation_Set_1['changed']==False]"
   ]
  },
  {
   "cell_type": "code",
   "execution_count": 3,
   "metadata": {},
   "outputs": [
    {
     "data": {
      "application/vnd.jupyter.widget-view+json": {
       "model_id": "3e03feb3e0d3491f9c1337ccbd710d93",
       "version_major": 2,
       "version_minor": 0
      },
      "text/plain": [
       "HTML(value='0 of 7 Examples annotated, Current Position: 0 ')"
      ]
     },
     "metadata": {},
     "output_type": "display_data"
    },
    {
     "data": {
      "application/vnd.jupyter.widget-view+json": {
       "model_id": "d5ee4e380b3743c78bec0cc9cb13642b",
       "version_major": 2,
       "version_minor": 0
      },
      "text/plain": [
       "VBox(children=(HBox(children=(Button(description='recovery', style=ButtonStyle()), Button(description='irrelev…"
      ]
     },
     "metadata": {},
     "output_type": "display_data"
    },
    {
     "data": {
      "application/vnd.jupyter.widget-view+json": {
       "model_id": "e43bfbf3901643c99958d58cbad45a85",
       "version_major": 2,
       "version_minor": 0
      },
      "text/plain": [
       "Output()"
      ]
     },
     "metadata": {},
     "output_type": "display_data"
    }
   ],
   "source": [
    "annotations = pixt.annotate(annotation_Set_1, example_column='title',\n",
    "    options=['recovery', 'irrelevant', 'support', 'qadjacent', 'other_revovery']\n",
    ")"
   ]
  },
  {
   "cell_type": "code",
   "execution_count": 4,
   "metadata": {},
   "outputs": [],
   "source": [
    "annotations.to_csv(\"../lite_data/annotated_recovery_phrases_3.csv\")"
   ]
  },
  {
   "cell_type": "code",
   "execution_count": null,
   "metadata": {},
   "outputs": [],
   "source": []
  }
 ],
 "metadata": {
  "kernelspec": {
   "display_name": "Python 3",
   "language": "python",
   "name": "python3"
  },
  "language_info": {
   "codemirror_mode": {
    "name": "ipython",
    "version": 3
   },
   "file_extension": ".py",
   "mimetype": "text/x-python",
   "name": "python",
   "nbconvert_exporter": "python",
   "pygments_lexer": "ipython3",
   "version": "3.8.10"
  }
 },
 "nbformat": 4,
 "nbformat_minor": 4
}
