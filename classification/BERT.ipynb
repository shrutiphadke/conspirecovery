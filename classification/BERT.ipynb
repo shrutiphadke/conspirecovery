{
 "cells": [
  {
   "cell_type": "code",
   "execution_count": 1,
   "metadata": {},
   "outputs": [
    {
     "name": "stdout",
     "output_type": "stream",
     "text": [
      "INFO: Pandarallel will run on 128 workers.\n",
      "INFO: Pandarallel will use Memory file system to transfer data between the main process and workers.\n"
     ]
    }
   ],
   "source": [
    "import pandas as pd\n",
    "import json\n",
    "from collections import defaultdict, Counter\n",
    "import glob\n",
    "from analysis_func.text_preproc import preproc_text\n",
    "import numpy as np\n",
    "from collections import defaultdict, Counter\n",
    "import glob\n",
    "import json\n",
    "from random import sample\n",
    "import sklearn\n",
    "\n",
    "import re\n",
    "import string\n",
    "import warnings\n",
    "from bs4 import BeautifulSoup\n",
    "import pickle as pkl\n",
    "\n",
    "from sentence_transformers import SentenceTransformer\n",
    "model = SentenceTransformer('stsb-bert-large')\n",
    "\n",
    "from pandarallel import pandarallel\n",
    "pandarallel.initialize()\n"
   ]
  },
  {
   "cell_type": "code",
   "execution_count": 2,
   "metadata": {},
   "outputs": [
    {
     "data": {
      "text/html": [
       "<div>\n",
       "<style scoped>\n",
       "    .dataframe tbody tr th:only-of-type {\n",
       "        vertical-align: middle;\n",
       "    }\n",
       "\n",
       "    .dataframe tbody tr th {\n",
       "        vertical-align: top;\n",
       "    }\n",
       "\n",
       "    .dataframe thead th {\n",
       "        text-align: right;\n",
       "    }\n",
       "</style>\n",
       "<table border=\"1\" class=\"dataframe\">\n",
       "  <thead>\n",
       "    <tr style=\"text-align: right;\">\n",
       "      <th></th>\n",
       "      <th>Unnamed: 0</th>\n",
       "      <th>author</th>\n",
       "      <th>subreddit</th>\n",
       "      <th>id</th>\n",
       "      <th>title</th>\n",
       "      <th>label</th>\n",
       "    </tr>\n",
       "  </thead>\n",
       "  <tbody>\n",
       "    <tr>\n",
       "      <th>0</th>\n",
       "      <td>0</td>\n",
       "      <td>Background-Dingo6</td>\n",
       "      <td>QAnonCasualties</td>\n",
       "      <td>holleyh</td>\n",
       "      <td>Thanks for sharing. I am gaining some hope I c...</td>\n",
       "      <td>qadjacent</td>\n",
       "    </tr>\n",
       "    <tr>\n",
       "      <th>1</th>\n",
       "      <td>1</td>\n",
       "      <td>d-_-bored-_-b</td>\n",
       "      <td>QAnonCasualties</td>\n",
       "      <td>hoiyyc8</td>\n",
       "      <td>Sorry I meant before I left Qanon IIRC it was ...</td>\n",
       "      <td>recovery</td>\n",
       "    </tr>\n",
       "    <tr>\n",
       "      <th>2</th>\n",
       "      <td>2</td>\n",
       "      <td>RhinestoneToxidrome</td>\n",
       "      <td>QAnonCasualties</td>\n",
       "      <td>hofdyp2</td>\n",
       "      <td>I’m so sorry that you’re going through this. W...</td>\n",
       "      <td>support</td>\n",
       "    </tr>\n",
       "    <tr>\n",
       "      <th>3</th>\n",
       "      <td>3</td>\n",
       "      <td>bigbear3321</td>\n",
       "      <td>QAnonCasualties</td>\n",
       "      <td>ho8pnfl</td>\n",
       "      <td>I remember when I went down the 9/11 rabbit ho...</td>\n",
       "      <td>recovery</td>\n",
       "    </tr>\n",
       "    <tr>\n",
       "      <th>4</th>\n",
       "      <td>4</td>\n",
       "      <td>butteredbuttbiscuit</td>\n",
       "      <td>QAnonCasualties</td>\n",
       "      <td>hnr0btg</td>\n",
       "      <td>Lots of people go to places like Tractor Suppl...</td>\n",
       "      <td>irrelevant</td>\n",
       "    </tr>\n",
       "  </tbody>\n",
       "</table>\n",
       "</div>"
      ],
      "text/plain": [
       "   Unnamed: 0               author        subreddit       id  \\\n",
       "0           0    Background-Dingo6  QAnonCasualties  holleyh   \n",
       "1           1        d-_-bored-_-b  QAnonCasualties  hoiyyc8   \n",
       "2           2  RhinestoneToxidrome  QAnonCasualties  hofdyp2   \n",
       "3           3          bigbear3321  QAnonCasualties  ho8pnfl   \n",
       "4           4  butteredbuttbiscuit  QAnonCasualties  hnr0btg   \n",
       "\n",
       "                                               title       label  \n",
       "0  Thanks for sharing. I am gaining some hope I c...   qadjacent  \n",
       "1  Sorry I meant before I left Qanon IIRC it was ...    recovery  \n",
       "2  I’m so sorry that you’re going through this. W...     support  \n",
       "3  I remember when I went down the 9/11 rabbit ho...    recovery  \n",
       "4  Lots of people go to places like Tractor Suppl...  irrelevant  "
      ]
     },
     "execution_count": 2,
     "metadata": {},
     "output_type": "execute_result"
    }
   ],
   "source": [
    "data = pd.read_csv(\"../lite_data/first_complete_annotated_data.csv\", header=0)\n",
    "data.head()"
   ]
  },
  {
   "cell_type": "code",
   "execution_count": 3,
   "metadata": {},
   "outputs": [
    {
     "name": "stdout",
     "output_type": "stream",
     "text": [
      "cleaning data\n"
     ]
    }
   ],
   "source": [
    "print(\"cleaning data\")\n",
    "#text preproessing - filter engligh, hindi, marathi stop words, remove puncts, hash, mentions, urls, weird spaces etc.\n",
    "data['clean_text'] = data['title'].parallel_apply(lambda x: preproc_text(x))"
   ]
  },
  {
   "cell_type": "code",
   "execution_count": 4,
   "metadata": {},
   "outputs": [
    {
     "data": {
      "text/html": [
       "<div>\n",
       "<style scoped>\n",
       "    .dataframe tbody tr th:only-of-type {\n",
       "        vertical-align: middle;\n",
       "    }\n",
       "\n",
       "    .dataframe tbody tr th {\n",
       "        vertical-align: top;\n",
       "    }\n",
       "\n",
       "    .dataframe thead th {\n",
       "        text-align: right;\n",
       "    }\n",
       "</style>\n",
       "<table border=\"1\" class=\"dataframe\">\n",
       "  <thead>\n",
       "    <tr style=\"text-align: right;\">\n",
       "      <th></th>\n",
       "      <th>Unnamed: 0</th>\n",
       "      <th>author</th>\n",
       "      <th>subreddit</th>\n",
       "      <th>id</th>\n",
       "      <th>title</th>\n",
       "      <th>label</th>\n",
       "      <th>clean_text</th>\n",
       "    </tr>\n",
       "  </thead>\n",
       "  <tbody>\n",
       "    <tr>\n",
       "      <th>470</th>\n",
       "      <td>197</td>\n",
       "      <td>DesignerAmbassador61</td>\n",
       "      <td>ReQovery</td>\n",
       "      <td>lqqdob</td>\n",
       "      <td>Was there a large scale of election fraud that...</td>\n",
       "      <td>irrelevant</td>\n",
       "      <td>large scale election fraud led bidens presiden...</td>\n",
       "    </tr>\n",
       "    <tr>\n",
       "      <th>16</th>\n",
       "      <td>16</td>\n",
       "      <td>huntingforkink</td>\n",
       "      <td>QAnonCasualties</td>\n",
       "      <td>hjka5pc</td>\n",
       "      <td>Omg! I'm struggling even THINKING about what t...</td>\n",
       "      <td>irrelevant</td>\n",
       "      <td>omg struggling thinking cook</td>\n",
       "    </tr>\n",
       "    <tr>\n",
       "      <th>29</th>\n",
       "      <td>29</td>\n",
       "      <td>Pitiful_Control</td>\n",
       "      <td>QAnonCasualties</td>\n",
       "      <td>hi1cf24</td>\n",
       "      <td>I hear you - I went down with it a couple week...</td>\n",
       "      <td>irrelevant</td>\n",
       "      <td>hear couple weeks ago double vaxxed tightly pa...</td>\n",
       "    </tr>\n",
       "    <tr>\n",
       "      <th>484</th>\n",
       "      <td>212</td>\n",
       "      <td>LoveB4action</td>\n",
       "      <td>ReQovery</td>\n",
       "      <td>lx126b</td>\n",
       "      <td>Red-pill for red pilled people ;) Where conspi...</td>\n",
       "      <td>irrelevant</td>\n",
       "      <td>redpill red pilled ;) conspiracy theories love...</td>\n",
       "    </tr>\n",
       "    <tr>\n",
       "      <th>432</th>\n",
       "      <td>155</td>\n",
       "      <td>Kialay</td>\n",
       "      <td>ReQovery</td>\n",
       "      <td>l2tgy0</td>\n",
       "      <td>We’ve made this group on telegram for those wh...</td>\n",
       "      <td>irrelevant</td>\n",
       "      <td>we’ve group telegram active supportive communi...</td>\n",
       "    </tr>\n",
       "  </tbody>\n",
       "</table>\n",
       "</div>"
      ],
      "text/plain": [
       "     Unnamed: 0                author        subreddit       id  \\\n",
       "470         197  DesignerAmbassador61         ReQovery   lqqdob   \n",
       "16           16        huntingforkink  QAnonCasualties  hjka5pc   \n",
       "29           29       Pitiful_Control  QAnonCasualties  hi1cf24   \n",
       "484         212          LoveB4action         ReQovery   lx126b   \n",
       "432         155                Kialay         ReQovery   l2tgy0   \n",
       "\n",
       "                                                 title       label  \\\n",
       "470  Was there a large scale of election fraud that...  irrelevant   \n",
       "16   Omg! I'm struggling even THINKING about what t...  irrelevant   \n",
       "29   I hear you - I went down with it a couple week...  irrelevant   \n",
       "484  Red-pill for red pilled people ;) Where conspi...  irrelevant   \n",
       "432  We’ve made this group on telegram for those wh...  irrelevant   \n",
       "\n",
       "                                            clean_text  \n",
       "470  large scale election fraud led bidens presiden...  \n",
       "16                        omg struggling thinking cook  \n",
       "29   hear couple weeks ago double vaxxed tightly pa...  \n",
       "484  redpill red pilled ;) conspiracy theories love...  \n",
       "432  we’ve group telegram active supportive communi...  "
      ]
     },
     "execution_count": 4,
     "metadata": {},
     "output_type": "execute_result"
    }
   ],
   "source": [
    "data.sample(5)"
   ]
  },
  {
   "cell_type": "code",
   "execution_count": 5,
   "metadata": {},
   "outputs": [],
   "source": [
    "data['bin_label'] = data['label'].apply(lambda x: 1 if x=='recovery' else 0)\n"
   ]
  },
  {
   "cell_type": "code",
   "execution_count": 6,
   "metadata": {},
   "outputs": [],
   "source": [
    "corpus = data['clean_text'].tolist()\n",
    "corpus_embeddings = model.encode(corpus)\n",
    "\n",
    "sent2embed = defaultdict()\n",
    "\n",
    "for sentence, embedding in zip(corpus, corpus_embeddings):\n",
    "    sent2embed[sentence] = embedding\n",
    "    \n",
    "\n",
    "\n",
    "with open(\"../lite_data/initial_bert_embeddings.pkl\", \"wb\") as pfile:\n",
    "    pkl.dump(sent2embed, pfile)\n"
   ]
  },
  {
   "cell_type": "code",
   "execution_count": 7,
   "metadata": {},
   "outputs": [
    {
     "data": {
      "text/plain": [
       "'deal dealt success mom deeply involved thinks john kennedy jr alive vaccine poison trump charge years talking substantial amount money worse health deteriorated point walker wheelchair adamantly refuses doctor quality life horrible doesnt listen reason sound frequencies internet thinks sterilizes water light online plays monitor buys healing crystals barely speak upsets dealt medical'"
      ]
     },
     "execution_count": 7,
     "metadata": {},
     "output_type": "execute_result"
    }
   ],
   "source": [
    "sentence"
   ]
  },
  {
   "cell_type": "code",
   "execution_count": 8,
   "metadata": {},
   "outputs": [
    {
     "data": {
      "text/plain": [
       "array([[ 0.54952   , -0.28799117, -0.21290419, ..., -0.6227958 ,\n",
       "         0.7103508 , -0.17310521],\n",
       "       [ 0.26597312,  0.45821318,  0.24108514, ..., -0.60857385,\n",
       "         0.18491228,  0.64838904],\n",
       "       [ 0.7347871 , -0.8543208 ,  0.50194865, ..., -0.2864929 ,\n",
       "         0.86271197,  0.32289717],\n",
       "       ...,\n",
       "       [ 0.28939855, -0.42697808,  0.38912985, ..., -0.22788598,\n",
       "         0.32963043, -0.17209585],\n",
       "       [-0.04185219, -0.19233319, -0.28876302, ...,  0.08219387,\n",
       "         0.579799  , -0.73323464],\n",
       "       [ 0.4613443 , -1.207446  ,  0.2026291 , ..., -0.1257518 ,\n",
       "         0.74228096, -0.4386694 ]], dtype=float32)"
      ]
     },
     "execution_count": 8,
     "metadata": {},
     "output_type": "execute_result"
    }
   ],
   "source": [
    "corpus_embeddings"
   ]
  },
  {
   "cell_type": "code",
   "execution_count": 9,
   "metadata": {},
   "outputs": [
    {
     "data": {
      "text/plain": [
       "(614, 1024)"
      ]
     },
     "execution_count": 9,
     "metadata": {},
     "output_type": "execute_result"
    }
   ],
   "source": [
    "corpus_embeddings.shape"
   ]
  },
  {
   "cell_type": "code",
   "execution_count": 10,
   "metadata": {},
   "outputs": [
    {
     "data": {
      "text/plain": [
       "614"
      ]
     },
     "execution_count": 10,
     "metadata": {},
     "output_type": "execute_result"
    }
   ],
   "source": [
    "len(data)"
   ]
  },
  {
   "cell_type": "code",
   "execution_count": 11,
   "metadata": {},
   "outputs": [],
   "source": [
    "labels = np.array(data['bin_label'].tolist())"
   ]
  },
  {
   "cell_type": "markdown",
   "metadata": {},
   "source": [
    "## naive bayes"
   ]
  },
  {
   "cell_type": "code",
   "execution_count": 12,
   "metadata": {},
   "outputs": [],
   "source": [
    "from sklearn.model_selection import train_test_split\n",
    "from sklearn.naive_bayes import GaussianNB\n",
    "from sklearn.neural_network import MLPClassifier\n",
    "from sklearn.neighbors import KNeighborsClassifier\n",
    "from sklearn.svm import SVC\n",
    "from sklearn.gaussian_process import GaussianProcessClassifier\n",
    "from sklearn.gaussian_process.kernels import RBF\n",
    "from sklearn.tree import DecisionTreeClassifier\n",
    "from sklearn.ensemble import RandomForestClassifier, AdaBoostClassifier\n",
    "from sklearn.naive_bayes import GaussianNB\n",
    "from sklearn.discriminant_analysis import QuadraticDiscriminantAnalysis\n",
    "from sklearn.metrics import confusion_matrix\n",
    "from sklearn.metrics import precision_score, recall_score, f1_score, accuracy_score, balanced_accuracy_score\n",
    "import matplotlib.pyplot as plt"
   ]
  },
  {
   "cell_type": "code",
   "execution_count": 13,
   "metadata": {},
   "outputs": [
    {
     "name": "stdout",
     "output_type": "stream",
     "text": [
      "Nearest Neighbors :  Precision: 0.552\n",
      "Recall: 0.667\n",
      "Accuracy: 0.886\n",
      "F1 Score: 0.604\n",
      "BAC: 0.793\n",
      "Linear SVM :  Precision: 0.708\n",
      "Recall: 0.773\n",
      "Accuracy: 0.935\n",
      "F1 Score: 0.739\n",
      "BAC: 0.865\n",
      "RBF SVM :  Precision: 1.000\n",
      "Recall: 0.625\n",
      "Accuracy: 0.935\n",
      "F1 Score: 0.769\n",
      "BAC: 0.812\n",
      "Gaussian Process :  Precision: 0.722\n",
      "Recall: 0.765\n",
      "Accuracy: 0.903\n",
      "F1 Score: 0.743\n",
      "BAC: 0.849\n",
      "Decision Tree :  Precision: 0.714\n",
      "Recall: 0.667\n",
      "Accuracy: 0.903\n",
      "F1 Score: 0.690\n",
      "BAC: 0.808\n",
      "Random Forest :  Precision: 1.000\n",
      "Recall: 0.171\n",
      "Accuracy: 0.816\n",
      "F1 Score: 0.292\n",
      "BAC: 0.585\n",
      "Neural Net :  Precision: 0.846\n",
      "Recall: 0.971\n",
      "Accuracy: 0.962\n",
      "F1 Score: 0.904\n",
      "BAC: 0.965\n",
      "AdaBoost :  Precision: 0.844\n",
      "Recall: 0.750\n",
      "Accuracy: 0.924\n",
      "F1 Score: 0.794\n",
      "BAC: 0.858\n",
      "Naive Bayes :  Precision: 0.441\n",
      "Recall: 0.812\n",
      "Accuracy: 0.789\n",
      "F1 Score: 0.571\n",
      "BAC: 0.798\n",
      "QDA :  Precision: 0.526\n",
      "Recall: 0.909\n",
      "Accuracy: 0.838\n",
      "F1 Score: 0.667\n",
      "BAC: 0.866\n"
     ]
    },
    {
     "name": "stderr",
     "output_type": "stream",
     "text": [
      "/home/phadke/.local/lib/python3.8/site-packages/sklearn/discriminant_analysis.py:878: UserWarning: Variables are collinear\n",
      "  warnings.warn(\"Variables are collinear\")\n"
     ]
    }
   ],
   "source": [
    "names = [\n",
    "    \"Nearest Neighbors\",\n",
    "    \"Linear SVM\",\n",
    "    \"RBF SVM\",\n",
    "    \"Gaussian Process\",\n",
    "    \"Decision Tree\",\n",
    "    \"Random Forest\",\n",
    "    \"Neural Net\",\n",
    "    \"AdaBoost\",\n",
    "    \"Naive Bayes\",\n",
    "    \"QDA\",\n",
    "]\n",
    "\n",
    "classifiers = [\n",
    "    KNeighborsClassifier(3),\n",
    "    SVC(kernel=\"linear\", C=0.025),\n",
    "    SVC(gamma=2, C=1),\n",
    "    GaussianProcessClassifier(1.0 * RBF(1.0)),\n",
    "    DecisionTreeClassifier(max_depth=5),\n",
    "    RandomForestClassifier(max_depth=5, n_estimators=10, max_features=1),\n",
    "    MLPClassifier(alpha=1, max_iter=1000),\n",
    "    AdaBoostClassifier(),\n",
    "    GaussianNB(),\n",
    "    QuadraticDiscriminantAnalysis(),\n",
    "]\n",
    "\n",
    "for i in range(10):\n",
    "    X_train, X_test, y_train, y_test = train_test_split(corpus_embeddings, labels, test_size=0.3, random_state=i)\n",
    "    gnb = classifiers[i]\n",
    "    y_pred = gnb.fit(X_train, y_train).predict(X_test)\n",
    "    print(names[i], \": \", 'Precision: %.3f' % precision_score(y_test, y_pred)),\n",
    "    print('Recall: %.3f' % recall_score(y_test, y_pred)),\n",
    "    print('Accuracy: %.3f' % accuracy_score(y_test, y_pred)),\n",
    "    print('F1 Score: %.3f' % f1_score(y_test, y_pred)),\n",
    "    print('BAC: %.3f' % balanced_accuracy_score(y_test, y_pred))"
   ]
  },
  {
   "cell_type": "code",
   "execution_count": 15,
   "metadata": {
    "scrolled": true
   },
   "outputs": [
    {
     "name": "stdout",
     "output_type": "stream",
     "text": [
      "Number of mislabeled points out of a total 185 points : 13\n",
      "Number of mislabeled points out of a total 185 points : 10\n",
      "Number of mislabeled points out of a total 185 points : 12\n",
      "Number of mislabeled points out of a total 185 points : 16\n",
      "Number of mislabeled points out of a total 185 points : 14\n",
      "Number of mislabeled points out of a total 185 points : 26\n",
      "Number of mislabeled points out of a total 185 points : 8\n",
      "Number of mislabeled points out of a total 185 points : 15\n",
      "Number of mislabeled points out of a total 185 points : 13\n",
      "Number of mislabeled points out of a total 185 points : 10\n",
      "Number of mislabeled points out of a total 185 points : 16\n",
      "Number of mislabeled points out of a total 185 points : 9\n",
      "Number of mislabeled points out of a total 185 points : 16\n",
      "Number of mislabeled points out of a total 185 points : 14\n",
      "Number of mislabeled points out of a total 185 points : 11\n",
      "Number of mislabeled points out of a total 185 points : 11\n",
      "Number of mislabeled points out of a total 185 points : 13\n",
      "Number of mislabeled points out of a total 185 points : 11\n",
      "Number of mislabeled points out of a total 185 points : 12\n",
      "Number of mislabeled points out of a total 185 points : 13\n",
      "Number of mislabeled points out of a total 185 points : 16\n",
      "Number of mislabeled points out of a total 185 points : 14\n",
      "Number of mislabeled points out of a total 185 points : 9\n",
      "Number of mislabeled points out of a total 185 points : 11\n",
      "Number of mislabeled points out of a total 185 points : 17\n",
      "Number of mislabeled points out of a total 185 points : 11\n",
      "Number of mislabeled points out of a total 185 points : 12\n",
      "Number of mislabeled points out of a total 185 points : 13\n",
      "Number of mislabeled points out of a total 185 points : 18\n",
      "Number of mislabeled points out of a total 185 points : 18\n"
     ]
    }
   ],
   "source": [
    "for i in range(30):\n",
    "    X_train, X_test, y_train, y_test = train_test_split(corpus_embeddings, labels, test_size=0.3, random_state=i)\n",
    "    gnb = MLPClassifier(alpha=1, max_iter=1000)\n",
    "    y_pred = gnb.fit(X_train, y_train).predict(X_test)\n",
    "    print(\"Number of mislabeled points out of a total %d points : %d\"\n",
    "          % (X_test.shape[0], (y_test != y_pred).sum()))"
   ]
  },
  {
   "cell_type": "code",
   "execution_count": 19,
   "metadata": {},
   "outputs": [
    {
     "data": {
      "text/plain": [
       "(185, 1024)"
      ]
     },
     "execution_count": 19,
     "metadata": {},
     "output_type": "execute_result"
    }
   ],
   "source": [
    "X_test.shape"
   ]
  },
  {
   "cell_type": "code",
   "execution_count": 21,
   "metadata": {},
   "outputs": [
    {
     "data": {
      "text/plain": [
       "(1024,)"
      ]
     },
     "execution_count": 21,
     "metadata": {},
     "output_type": "execute_result"
    }
   ],
   "source": [
    "X_test[0,:].shape"
   ]
  },
  {
   "cell_type": "code",
   "execution_count": 27,
   "metadata": {},
   "outputs": [
    {
     "data": {
      "text/plain": [
       "array([[0.1488756, 0.8511244]], dtype=float32)"
      ]
     },
     "execution_count": 27,
     "metadata": {},
     "output_type": "execute_result"
    }
   ],
   "source": [
    "gnb.predict_proba(X_test[2,:].reshape(1, -1))"
   ]
  },
  {
   "cell_type": "code",
   "execution_count": 28,
   "metadata": {},
   "outputs": [
    {
     "data": {
      "text/plain": [
       "0"
      ]
     },
     "execution_count": 28,
     "metadata": {},
     "output_type": "execute_result"
    }
   ],
   "source": [
    "y_test[2]"
   ]
  },
  {
   "cell_type": "code",
   "execution_count": null,
   "metadata": {},
   "outputs": [],
   "source": [
    "conf_matrix = confusion_matrix(y_true=y_test, y_pred=y_pred)"
   ]
  },
  {
   "cell_type": "code",
   "execution_count": null,
   "metadata": {},
   "outputs": [],
   "source": [
    "fig, ax = plt.subplots(figsize=(3, 3))\n",
    "ax.matshow(conf_matrix, cmap=plt.cm.Oranges, alpha=0.3)\n",
    "for i in range(conf_matrix.shape[0]):\n",
    "    for j in range(conf_matrix.shape[1]):\n",
    "        ax.text(x=j, y=i,s=conf_matrix[i, j], va='center', ha='center', size='xx-large')\n",
    "\n",
    "plt.xlabel('Predictions', fontsize=18)\n",
    "plt.ylabel('Actuals', fontsize=18)\n",
    "plt.title('Confusion Matrix', fontsize=18)\n",
    "plt.show()"
   ]
  },
  {
   "cell_type": "code",
   "execution_count": null,
   "metadata": {},
   "outputs": [],
   "source": [
    "print('Precision: %.3f' % precision_score(y_test, y_pred))\n",
    "print('Recall: %.3f' % recall_score(y_test, y_pred))\n",
    "print('Accuracy: %.3f' % accuracy_score(y_test, y_pred))\n",
    "print('F1 Score: %.3f' % f1_score(y_test, y_pred))\n",
    "print('BAC: %.3f' % balanced_accuracy_score(y_test, y_pred))"
   ]
  },
  {
   "cell_type": "code",
   "execution_count": 29,
   "metadata": {},
   "outputs": [
    {
     "data": {
      "text/plain": [
       "(614, 1024)"
      ]
     },
     "execution_count": 29,
     "metadata": {},
     "output_type": "execute_result"
    }
   ],
   "source": [
    "corpus_embeddings.shape"
   ]
  },
  {
   "cell_type": "code",
   "execution_count": null,
   "metadata": {},
   "outputs": [],
   "source": []
  }
 ],
 "metadata": {
  "kernelspec": {
   "display_name": "Python 3",
   "language": "python",
   "name": "python3"
  },
  "language_info": {
   "codemirror_mode": {
    "name": "ipython",
    "version": 3
   },
   "file_extension": ".py",
   "mimetype": "text/x-python",
   "name": "python",
   "nbconvert_exporter": "python",
   "pygments_lexer": "ipython3",
   "version": "3.8.10"
  }
 },
 "nbformat": 4,
 "nbformat_minor": 4
}
