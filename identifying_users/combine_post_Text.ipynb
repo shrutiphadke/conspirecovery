{
 "cells": [
  {
   "cell_type": "code",
   "execution_count": 1,
   "metadata": {},
   "outputs": [],
   "source": [
    "import pandas as pd\n",
    "from collections import Counter, defaultdict\n",
    "import glob\n",
    "import json"
   ]
  },
  {
   "cell_type": "code",
   "execution_count": 2,
   "metadata": {},
   "outputs": [
    {
     "data": {
      "application/vnd.jupyter.widget-view+json": {
       "model_id": "8549e3c1a1f54c16a2638af12356f999",
       "version_major": 2,
       "version_minor": 0
      },
      "text/plain": [
       "HTML(value='0 of 2 Examples annotated, Current Position: 0 ')"
      ]
     },
     "metadata": {},
     "output_type": "display_data"
    },
    {
     "data": {
      "application/vnd.jupyter.widget-view+json": {
       "model_id": "cfa5083c2d624e6fad632ed4f72d1bda",
       "version_major": 2,
       "version_minor": 0
      },
      "text/plain": [
       "VBox(children=(HBox(children=(Button(description='positive', style=ButtonStyle()), Button(description='negativ…"
      ]
     },
     "metadata": {},
     "output_type": "display_data"
    },
    {
     "data": {
      "application/vnd.jupyter.widget-view+json": {
       "model_id": "369bf2de43944323b9fce267f576b2b1",
       "version_major": 2,
       "version_minor": 0
      },
      "text/plain": [
       "Output()"
      ]
     },
     "metadata": {},
     "output_type": "display_data"
    },
    {
     "name": "stdout",
     "output_type": "stream",
     "text": [
      "Annotation done.\n"
     ]
    }
   ],
   "source": [
    "import pandas as pd\n",
    "import pigeonXT as pixt\n",
    "\n",
    "annotations = pixt.annotate(\n",
    "    ['I love this movie', 'I was really disappointed by the book'],\n",
    "    options=['positive', 'negative', 'inbetween']\n",
    ")"
   ]
  },
  {
   "cell_type": "code",
   "execution_count": 3,
   "metadata": {},
   "outputs": [
    {
     "data": {
      "text/html": [
       "<div>\n",
       "<style scoped>\n",
       "    .dataframe tbody tr th:only-of-type {\n",
       "        vertical-align: middle;\n",
       "    }\n",
       "\n",
       "    .dataframe tbody tr th {\n",
       "        vertical-align: top;\n",
       "    }\n",
       "\n",
       "    .dataframe thead th {\n",
       "        text-align: right;\n",
       "    }\n",
       "</style>\n",
       "<table border=\"1\" class=\"dataframe\">\n",
       "  <thead>\n",
       "    <tr style=\"text-align: right;\">\n",
       "      <th></th>\n",
       "      <th>example</th>\n",
       "      <th>changed</th>\n",
       "      <th>label</th>\n",
       "    </tr>\n",
       "  </thead>\n",
       "  <tbody>\n",
       "    <tr>\n",
       "      <th>0</th>\n",
       "      <td>I love this movie</td>\n",
       "      <td>True</td>\n",
       "      <td>positive</td>\n",
       "    </tr>\n",
       "    <tr>\n",
       "      <th>1</th>\n",
       "      <td>I was really disappointed by the book</td>\n",
       "      <td>True</td>\n",
       "      <td>negative</td>\n",
       "    </tr>\n",
       "  </tbody>\n",
       "</table>\n",
       "</div>"
      ],
      "text/plain": [
       "                                 example  changed     label\n",
       "0                      I love this movie     True  positive\n",
       "1  I was really disappointed by the book     True  negative"
      ]
     },
     "execution_count": 3,
     "metadata": {},
     "output_type": "execute_result"
    }
   ],
   "source": [
    "annotations"
   ]
  },
  {
   "cell_type": "markdown",
   "metadata": {},
   "source": [
    "## combine datasets"
   ]
  },
  {
   "cell_type": "markdown",
   "metadata": {},
   "source": [
    "### comments"
   ]
  },
  {
   "cell_type": "code",
   "execution_count": null,
   "metadata": {},
   "outputs": [],
   "source": [
    "cdata = glob.glob(\"../big_data/comments/*.json\")\n",
    "commentlist = []\n",
    "\n",
    "for c in cdata:\n",
    "    print(c)\n",
    "    counter = 0\n",
    "    with open(c, \"r\") as jfile:\n",
    "        for line in jfile:\n",
    "            counter+=1\n",
    "            if counter%1000==0:\n",
    "                print(counter)\n",
    "            try:\n",
    "                job = json.loads(line)\n",
    "                commdict = defaultdict()\n",
    "                jobkeys = job.keys()\n",
    "                if 'author' in jobkeys:\n",
    "                    commdict['author']  = job['author']\n",
    "                if 'subreddit' in jobkeys:\n",
    "                    commdict['subreddit']  = job['subreddit']\n",
    "\n",
    "                if 'author_flair_text' in jobkeys:\n",
    "                    commdict['author_flair_text']  = job['author_flair_text']\n",
    "                if 'body' in jobkeys:\n",
    "                    commdict['title']  = job['body']\n",
    "                if 'id' in jobkeys:\n",
    "                    commdict['id']  = job['id']\n",
    "                if 'parent_id' in jobkeys:\n",
    "                    commdict['parent_id']  = job['parent_id']\n",
    "                if 'link_id' in jobkeys:\n",
    "                    commdict['link_id']  = job['link_id']\n",
    "                if 'created_utc' in jobkeys:\n",
    "                    commdict['created_utc']  = job['created_utc']\n",
    "                if 'score' in jobkeys:\n",
    "                    commdict['score']  = job['score']\n",
    "\n",
    "                commentlist.append(commdict)\n",
    "\n",
    "            except:\n",
    "                fakevar = 1\n"
   ]
  },
  {
   "cell_type": "code",
   "execution_count": null,
   "metadata": {},
   "outputs": [],
   "source": [
    "len(commentlist)"
   ]
  },
  {
   "cell_type": "code",
   "execution_count": null,
   "metadata": {},
   "outputs": [],
   "source": [
    "comments = pd.DataFrame(commentlist)"
   ]
  },
  {
   "cell_type": "code",
   "execution_count": null,
   "metadata": {},
   "outputs": [],
   "source": [
    "comments.head()"
   ]
  },
  {
   "cell_type": "code",
   "execution_count": null,
   "metadata": {},
   "outputs": [],
   "source": [
    "len(comments.drop_duplicates())"
   ]
  },
  {
   "cell_type": "code",
   "execution_count": null,
   "metadata": {},
   "outputs": [],
   "source": [
    "comments.to_csv(\"../big_data/qsub_comments.csv\")"
   ]
  },
  {
   "cell_type": "code",
   "execution_count": null,
   "metadata": {},
   "outputs": [],
   "source": [
    "def findInText(text):\n",
    "    phrases = [' i recovered', ' i went down ', ' i used to believe', ' i am ex-', \"i believed q\",\n",
    "               \" i started getting into\", \" i recovered\", \" i am struggling \", \" i'm struggling \",\n",
    "               \" i left q\", \" i don't believe anymore\", \" i stopped believing\", \" i fell for \"]\n",
    "#     phrases = [\"i don't believe\"]\n",
    "    for p in phrases:\n",
    "        if p in text.lower():\n",
    "            return 1\n",
    "    \n",
    "comments['is_recovered']  =comments['title'].apply(lambda x: findInText(x))"
   ]
  },
  {
   "cell_type": "code",
   "execution_count": null,
   "metadata": {},
   "outputs": [],
   "source": [
    "pd.set_option(\"display.max_colwidth\", -1)\n",
    "len(comments.loc[comments['is_recovered']==1])"
   ]
  },
  {
   "cell_type": "markdown",
   "metadata": {},
   "source": [
    "## posts"
   ]
  },
  {
   "cell_type": "code",
   "execution_count": null,
   "metadata": {
    "scrolled": false
   },
   "outputs": [],
   "source": [
    "pdata = glob.glob(\"../big_data/submissions/*.json\")\n",
    "postlist = []\n",
    "\n",
    "for c in pdata:\n",
    "    print(c)\n",
    "    counter = 0\n",
    "    with open(c, \"r\") as jfile:\n",
    "        for line in jfile:\n",
    "            counter+=1\n",
    "            if counter%1000==0:\n",
    "                print(counter)\n",
    "            try:\n",
    "                job = json.loads(line)\n",
    "                postdict = defaultdict()\n",
    "                jobkeys = job.keys()\n",
    "                if 'author' in jobkeys:\n",
    "                    postdict['author']  = job['author']\n",
    "                if 'subreddit' in jobkeys:\n",
    "                    postdict['subreddit']  = job['subreddit']\n",
    "\n",
    "                if 'author_flair_text' in jobkeys:\n",
    "                    postdict['author_flair_text']  = job['author_flair_text']\n",
    "                    \n",
    "                if 'title' in jobkeys:\n",
    "                    if 'selftext' in jobkeys:\n",
    "                        postdict['title'] = job['title'] + \" \" + job['selftext']\n",
    "                    else:\n",
    "                        postdict['title'] = job['title']\n",
    "                        \n",
    "                else:\n",
    "                    if 'selftext' in jobkeys:\n",
    "                        postdict['title'] = job['selftext']\n",
    "                if 'id' in jobkeys:\n",
    "                    postdict['id']  = job['id']\n",
    "                \n",
    "                    postdict['parent_id']  = job['id']\n",
    "                \n",
    "                    postdict['link_id']  = job['id']\n",
    "                if 'created_utc' in jobkeys:\n",
    "                    postdict['created_utc']  = job['created_utc']\n",
    "                if 'score' in jobkeys:\n",
    "                    postdict['score']  = job['score']\n",
    "\n",
    "                postlist.append(postdict)\n",
    "\n",
    "            except:\n",
    "                fakevar = 1\n"
   ]
  },
  {
   "cell_type": "code",
   "execution_count": null,
   "metadata": {},
   "outputs": [],
   "source": [
    "len(postlist)"
   ]
  },
  {
   "cell_type": "code",
   "execution_count": null,
   "metadata": {
    "scrolled": true
   },
   "outputs": [],
   "source": [
    "posts = pd.DataFrame(postlist)\n",
    "posts.head()"
   ]
  },
  {
   "cell_type": "code",
   "execution_count": null,
   "metadata": {},
   "outputs": [],
   "source": [
    "posts.to_csv(\"../big_data/qsub_posts.csv\")"
   ]
  },
  {
   "cell_type": "code",
   "execution_count": null,
   "metadata": {},
   "outputs": [],
   "source": [
    "posts['is_recovered']  =posts['title'].apply(lambda x: findInText(x))"
   ]
  },
  {
   "cell_type": "code",
   "execution_count": null,
   "metadata": {},
   "outputs": [],
   "source": [
    "len(posts.loc[posts['is_recovered']==1])"
   ]
  },
  {
   "cell_type": "code",
   "execution_count": null,
   "metadata": {},
   "outputs": [],
   "source": []
  },
  {
   "cell_type": "markdown",
   "metadata": {},
   "source": [
    "## annotate comments"
   ]
  },
  {
   "cell_type": "code",
   "execution_count": null,
   "metadata": {},
   "outputs": [],
   "source": [
    "possible_Recovery = comments.loc[comments['is_recovered']==1]\n",
    "idlist = possible_Recovery['id'].tolist()\n",
    "textlist = possible_Recovery['title'].tolist()"
   ]
  },
  {
   "cell_type": "code",
   "execution_count": null,
   "metadata": {},
   "outputs": [],
   "source": [
    "import pandas as pd\n",
    "import pigeonXT as pixt\n",
    "\n",
    "annotations = pixt.annotate(\n",
    "    textlist,\n",
    "    options=['recovery', 'not_recovery', 'qadjacent']\n",
    ")"
   ]
  }
 ],
 "metadata": {
  "kernelspec": {
   "display_name": "Python 3",
   "language": "python",
   "name": "python3"
  },
  "language_info": {
   "codemirror_mode": {
    "name": "ipython",
    "version": 3
   },
   "file_extension": ".py",
   "mimetype": "text/x-python",
   "name": "python",
   "nbconvert_exporter": "python",
   "pygments_lexer": "ipython3",
   "version": "3.8.10"
  }
 },
 "nbformat": 4,
 "nbformat_minor": 4
}
