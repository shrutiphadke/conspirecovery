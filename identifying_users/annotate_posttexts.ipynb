{
 "cells": [
  {
   "cell_type": "code",
   "execution_count": 1,
   "metadata": {},
   "outputs": [],
   "source": [
    "import pandas as pd\n",
    "from collections import Counter, defaultdict\n",
    "import glob\n",
    "import json\n",
    "import pandas as pd\n",
    "import pigeonXT as pixt\n"
   ]
  },
  {
   "cell_type": "code",
   "execution_count": 2,
   "metadata": {},
   "outputs": [],
   "source": [
    "comments = pd.read_csv(\"../big_data/qsub_comments.csv\", header=0)"
   ]
  },
  {
   "cell_type": "code",
   "execution_count": 3,
   "metadata": {},
   "outputs": [],
   "source": [
    "def findInText(text):\n",
    "    phrases = [' i recovered', ' i went down ', ' i used to believe', ' i am ex-', \"i believed q\",\n",
    "               \" i started getting into\", \" i recovered\", \" i am struggling \", \" i'm struggling \",\n",
    "               \" i left q\", \" i don't believe anymore\", \" i stopped believing\", \" i fell for \"]\n",
    "#     phrases = [\"i don't believe\"]\n",
    "    for p in phrases:\n",
    "        try:\n",
    "            if p in text.lower():\n",
    "                return 1\n",
    "        except:\n",
    "            fakevar=0\n",
    "    \n",
    "comments['is_recovered']  =comments['title'].apply(lambda x: findInText(x))"
   ]
  },
  {
   "cell_type": "code",
   "execution_count": 4,
   "metadata": {},
   "outputs": [],
   "source": [
    "possible_Recovery = comments.loc[comments['is_recovered']==1]\n",
    "idlist = possible_Recovery['id'].tolist()\n",
    "textlist = possible_Recovery['title'].tolist()"
   ]
  },
  {
   "cell_type": "code",
   "execution_count": 5,
   "metadata": {},
   "outputs": [
    {
     "data": {
      "application/vnd.jupyter.widget-view+json": {
       "model_id": "94febf048ecf4533b61f17ea47e7d115",
       "version_major": 2,
       "version_minor": 0
      },
      "text/plain": [
       "HTML(value='0 of 229 Examples annotated, Current Position: 0 ')"
      ]
     },
     "metadata": {},
     "output_type": "display_data"
    },
    {
     "data": {
      "application/vnd.jupyter.widget-view+json": {
       "model_id": "1ea8553fdd7b489d8d6f0392e532740f",
       "version_major": 2,
       "version_minor": 0
      },
      "text/plain": [
       "VBox(children=(HBox(children=(Button(description='recovery', style=ButtonStyle()), Button(description='not_rec…"
      ]
     },
     "metadata": {},
     "output_type": "display_data"
    },
    {
     "data": {
      "application/vnd.jupyter.widget-view+json": {
       "model_id": "fbe35ed646ca4786856d5d0c430d43c3",
       "version_major": 2,
       "version_minor": 0
      },
      "text/plain": [
       "Output()"
      ]
     },
     "metadata": {},
     "output_type": "display_data"
    }
   ],
   "source": [
    "annotations = pixt.annotate(\n",
    "    textlist,\n",
    "    options=['recovery', 'not_recovery', 'qadjacent']\n",
    ")"
   ]
  },
  {
   "cell_type": "code",
   "execution_count": null,
   "metadata": {},
   "outputs": [],
   "source": []
  }
 ],
 "metadata": {
  "kernelspec": {
   "display_name": "Python 3",
   "language": "python",
   "name": "python3"
  },
  "language_info": {
   "codemirror_mode": {
    "name": "ipython",
    "version": 3
   },
   "file_extension": ".py",
   "mimetype": "text/x-python",
   "name": "python",
   "nbconvert_exporter": "python",
   "pygments_lexer": "ipython3",
   "version": "3.8.10"
  }
 },
 "nbformat": 4,
 "nbformat_minor": 4
}
