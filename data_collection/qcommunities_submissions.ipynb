{
 "cells": [
  {
   "cell_type": "code",
   "execution_count": 1,
   "metadata": {},
   "outputs": [],
   "source": [
    "import requests\n",
    "from datetime import datetime\n",
    "import traceback\n",
    "import pandas as pd\n",
    "import json\n"
   ]
  },
  {
   "cell_type": "code",
   "execution_count": 2,
   "metadata": {},
   "outputs": [],
   "source": [
    "qcommunities = ['QAnonCasualties', 'ReQovery', 'Qult_Headquarters', 'AAQANON', 'XQRequests']"
   ]
  },
  {
   "cell_type": "code",
   "execution_count": 3,
   "metadata": {},
   "outputs": [],
   "source": [
    "def return_ts(somedate):\n",
    "    return (somedate - datetime(1970, 1, 1)).total_seconds()"
   ]
  },
  {
   "cell_type": "code",
   "execution_count": 4,
   "metadata": {},
   "outputs": [],
   "source": [
    "sub = 'ReQovery'\n",
    "url = \"https://api.pushshift.io/reddit/submission/search?limit=1000&sort=desc&subreddit={}&before=\"\n",
    "start_time = datetime.utcnow()\n",
    "\n",
    "\n",
    "def downloadFromUrl(filename):\n",
    "    print( filename)\n",
    "    count = 0\n",
    "    \n",
    "    handle = open(filename, 'w')\n",
    "    previous_epoch = int(return_ts(start_time))\n",
    "    while True:\n",
    "        new_url = url.format(sub)+str(previous_epoch)\n",
    "        try:\n",
    "            jsn = requests.get(new_url, headers={'User-Agent': \"Post downloader by /u/Watchful1\"})\n",
    "            json_data = jsn.json()\n",
    "            if 'data' not in json_data:\n",
    "                break\n",
    "            objects = json_data['data']\n",
    "            if len(objects) == 0:\n",
    "                break\n",
    "            for object in objects:\n",
    "                try:\n",
    "                    json.dump(object, handle)\n",
    "                    handle.write(\"\\n\")\n",
    "                    \n",
    "                except:\n",
    "                    print(object)\n",
    "        except:\n",
    "            fakevar=1\n",
    "            \n",
    "        previous_epoch = object['created_utc'] - 1\n",
    "\n"
   ]
  },
  {
   "cell_type": "code",
   "execution_count": 5,
   "metadata": {},
   "outputs": [
    {
     "name": "stdout",
     "output_type": "stream",
     "text": [
      "/home/phadke/recovery/conspirecovery/big_data/submissions/ReQovery.json\n"
     ]
    }
   ],
   "source": [
    "fname = \"/home/phadke/recovery/conspirecovery/big_data/submissions/\" + sub + \".json\"\n",
    "downloadFromUrl(fname)"
   ]
  },
  {
   "cell_type": "code",
   "execution_count": null,
   "metadata": {},
   "outputs": [],
   "source": []
  }
 ],
 "metadata": {
  "kernelspec": {
   "display_name": "Python 3",
   "language": "python",
   "name": "python3"
  },
  "language_info": {
   "codemirror_mode": {
    "name": "ipython",
    "version": 3
   },
   "file_extension": ".py",
   "mimetype": "text/x-python",
   "name": "python",
   "nbconvert_exporter": "python",
   "pygments_lexer": "ipython3",
   "version": "3.8.10"
  }
 },
 "nbformat": 4,
 "nbformat_minor": 4
}
